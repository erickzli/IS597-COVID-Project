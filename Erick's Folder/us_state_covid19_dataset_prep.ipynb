{
 "cells": [
  {
   "cell_type": "code",
   "execution_count": 1,
   "metadata": {},
   "outputs": [],
   "source": [
    "import pandas as pd\n",
    "from pyspark.sql import SparkSession\n",
    "from pyspark.sql.types import StructType, StructField, IntegerType, StringType, DateType, DoubleType"
   ]
  },
  {
   "cell_type": "code",
   "execution_count": 2,
   "metadata": {},
   "outputs": [],
   "source": [
    "spark = SparkSession.builder.appName('covid19_daily').getOrCreate()"
   ]
  },
  {
   "cell_type": "code",
   "execution_count": 3,
   "metadata": {},
   "outputs": [],
   "source": [
    "file_path = './data/us_states_covid19_daily.csv'"
   ]
  },
  {
   "cell_type": "code",
   "execution_count": 4,
   "metadata": {},
   "outputs": [],
   "source": [
    "state_df = (spark.read.format('csv')\n",
    "            .option('header', True)\n",
    "            .option('inferSchema', True)\n",
    "            .load(file_path))"
   ]
  },
  {
   "cell_type": "code",
   "execution_count": 5,
   "metadata": {},
   "outputs": [
    {
     "name": "stdout",
     "output_type": "stream",
     "text": [
      "+--------+-----+--------+\n",
      "|    date|state|positive|\n",
      "+--------+-----+--------+\n",
      "|20201206|   AK|   35720|\n",
      "|20201206|   AL|  269877|\n",
      "|20201206|   AR|  170924|\n",
      "|20201206|   AS|       0|\n",
      "|20201206|   AZ|  364276|\n",
      "|20201206|   CA| 1341700|\n",
      "|20201206|   CO|  260581|\n",
      "|20201206|   CT|  127715|\n",
      "|20201206|   DC|   23136|\n",
      "|20201206|   DE|   39912|\n",
      "|20201206|   FL| 1040727|\n",
      "|20201206|   GA|  443822|\n",
      "|20201206|   GU|    7004|\n",
      "|20201206|   HI|   18842|\n",
      "|20201206|   IA|  213390|\n",
      "|20201206|   ID|  109705|\n",
      "|20201206|   IL|  787573|\n",
      "|20201206|   IN|  381617|\n",
      "|20201206|   KS|  168295|\n",
      "|20201206|   KY|  200632|\n",
      "+--------+-----+--------+\n",
      "only showing top 20 rows\n",
      "\n"
     ]
    }
   ],
   "source": [
    "state_df = state_df.select(['date', 'state', 'positive'])\n",
    "state_df.show()"
   ]
  },
  {
   "cell_type": "markdown",
   "metadata": {},
   "source": [
    "### Define datetime"
   ]
  },
  {
   "cell_type": "code",
   "execution_count": 6,
   "metadata": {},
   "outputs": [
    {
     "name": "stdout",
     "output_type": "stream",
     "text": [
      "+----------+-----+--------+\n",
      "|      date|state|positive|\n",
      "+----------+-----+--------+\n",
      "|2020-12-06|   AK|   35720|\n",
      "|2020-12-06|   AL|  269877|\n",
      "|2020-12-06|   AR|  170924|\n",
      "|2020-12-06|   AS|       0|\n",
      "|2020-12-06|   AZ|  364276|\n",
      "|2020-12-06|   CA| 1341700|\n",
      "|2020-12-06|   CO|  260581|\n",
      "|2020-12-06|   CT|  127715|\n",
      "|2020-12-06|   DC|   23136|\n",
      "|2020-12-06|   DE|   39912|\n",
      "|2020-12-06|   FL| 1040727|\n",
      "|2020-12-06|   GA|  443822|\n",
      "|2020-12-06|   GU|    7004|\n",
      "|2020-12-06|   HI|   18842|\n",
      "|2020-12-06|   IA|  213390|\n",
      "|2020-12-06|   ID|  109705|\n",
      "|2020-12-06|   IL|  787573|\n",
      "|2020-12-06|   IN|  381617|\n",
      "|2020-12-06|   KS|  168295|\n",
      "|2020-12-06|   KY|  200632|\n",
      "+----------+-----+--------+\n",
      "only showing top 20 rows\n",
      "\n"
     ]
    }
   ],
   "source": [
    "from pyspark.sql.functions import to_date\n",
    "\n",
    "state_df = state_df.withColumn('date', state_df['date'].cast(StringType()))\n",
    "state_df = state_df.withColumn('date', to_date(state_df['date'], 'yyyyMMdd'))\n",
    "state_df.show()"
   ]
  },
  {
   "cell_type": "code",
   "execution_count": 7,
   "metadata": {},
   "outputs": [
    {
     "name": "stdout",
     "output_type": "stream",
     "text": [
      "root\n",
      " |-- date: date (nullable = true)\n",
      " |-- state: string (nullable = true)\n",
      " |-- positive: integer (nullable = true)\n",
      "\n"
     ]
    }
   ],
   "source": [
    "state_df.printSchema()"
   ]
  },
  {
   "cell_type": "code",
   "execution_count": 8,
   "metadata": {},
   "outputs": [
    {
     "name": "stdout",
     "output_type": "stream",
     "text": [
      "+-----+---------+\n",
      "|state|state_max|\n",
      "+-----+---------+\n",
      "|   CA|  1341700|\n",
      "|   TX|  1249323|\n",
      "|   FL|  1040727|\n",
      "|   IL|   787573|\n",
      "|   NY|   705827|\n",
      "|   OH|   475024|\n",
      "|   GA|   443822|\n",
      "|   WI|   441067|\n",
      "|   MI|   426576|\n",
      "|   PA|   420114|\n",
      "|   TN|   400594|\n",
      "|   NC|   394990|\n",
      "|   IN|   381617|\n",
      "|   NJ|   368016|\n",
      "|   AZ|   364276|\n",
      "|   MN|   350862|\n",
      "|   MO|   322298|\n",
      "|   AL|   269877|\n",
      "|   CO|   260581|\n",
      "|   MA|   256844|\n",
      "+-----+---------+\n",
      "only showing top 20 rows\n",
      "\n"
     ]
    }
   ],
   "source": [
    "from pyspark.sql.functions import max\n",
    "from pyspark.sql.functions import col\n",
    "\n",
    "(state_df.groupBy('state')\n",
    "         .agg(max(col('positive')).alias('state_max'))\n",
    "         .orderBy('state_max', ascending=False).show())"
   ]
  },
  {
   "cell_type": "code",
   "execution_count": 9,
   "metadata": {},
   "outputs": [
    {
     "name": "stdout",
     "output_type": "stream",
     "text": [
      "+----------+-----+--------+\n",
      "|      date|state|positive|\n",
      "+----------+-----+--------+\n",
      "|2020-12-06|   IL|  787573|\n",
      "|2020-12-05|   IL|  779975|\n",
      "|2020-12-04|   IL|  770088|\n",
      "|2020-12-03|   IL|  759562|\n",
      "|2020-12-02|   IL|  748603|\n",
      "|2020-12-01|   IL|  738846|\n",
      "|2020-11-30|   IL|  726304|\n",
      "|2020-11-29|   IL|  720114|\n",
      "|2020-11-28|   IL|  712936|\n",
      "|2020-11-27|   IL|  705063|\n",
      "+----------+-----+--------+\n",
      "only showing top 10 rows\n",
      "\n"
     ]
    }
   ],
   "source": [
    "il_df = state_df.filter(col('state') == 'IL')\n",
    "il_df.show(10)"
   ]
  },
  {
   "cell_type": "markdown",
   "metadata": {},
   "source": [
    "### Create a column showing the number of daily new cases"
   ]
  },
  {
   "cell_type": "code",
   "execution_count": 10,
   "metadata": {},
   "outputs": [],
   "source": [
    "from pyspark.sql.functions import lag, isnull, when\n",
    "from pyspark.sql.window import Window\n",
    "\n",
    "# Create a new column showing the number of new cases\n",
    "il_df = il_df.withColumn('prev_cases', \n",
    "                         lag(il_df['positive']).over(Window.partitionBy().orderBy('date')))\n",
    "il_df = il_df.withColumn('il_new_cases', \n",
    "                         when(isnull(il_df['positive'] - il_df['prev_cases']), il_df['positive'])\n",
    "                         .otherwise(il_df['positive'] - il_df['prev_cases']))\n",
    "il_df = il_df.withColumnRenamed('date', 'il_date')\n",
    "il_df = il_df.drop('prev_cases')"
   ]
  },
  {
   "cell_type": "code",
   "execution_count": 11,
   "metadata": {},
   "outputs": [
    {
     "name": "stdout",
     "output_type": "stream",
     "text": [
      "+----------+-----+--------+------------+\n",
      "|   il_date|state|positive|il_new_cases|\n",
      "+----------+-----+--------+------------+\n",
      "|2020-03-04|   IL|       4|           4|\n",
      "|2020-03-05|   IL|       5|           1|\n",
      "|2020-03-06|   IL|       5|           0|\n",
      "|2020-03-07|   IL|       6|           1|\n",
      "|2020-03-08|   IL|       6|           0|\n",
      "|2020-03-09|   IL|       7|           1|\n",
      "|2020-03-10|   IL|      19|          12|\n",
      "|2020-03-11|   IL|      19|           0|\n",
      "|2020-03-12|   IL|      25|           6|\n",
      "|2020-03-13|   IL|      32|           7|\n",
      "+----------+-----+--------+------------+\n",
      "only showing top 10 rows\n",
      "\n"
     ]
    }
   ],
   "source": [
    "il_df.show(10)"
   ]
  },
  {
   "cell_type": "code",
   "execution_count": 12,
   "metadata": {},
   "outputs": [
    {
     "name": "stdout",
     "output_type": "stream",
     "text": [
      "root\n",
      " |-- il_date: date (nullable = true)\n",
      " |-- state: string (nullable = true)\n",
      " |-- positive: integer (nullable = true)\n",
      " |-- il_new_cases: integer (nullable = true)\n",
      "\n"
     ]
    }
   ],
   "source": [
    "il_df.printSchema()"
   ]
  },
  {
   "cell_type": "markdown",
   "metadata": {},
   "source": [
    "### Get the national case numbers"
   ]
  },
  {
   "cell_type": "code",
   "execution_count": 13,
   "metadata": {},
   "outputs": [
    {
     "name": "stdout",
     "output_type": "stream",
     "text": [
      "+----------+-----------+\n",
      "|      date|us_positive|\n",
      "+----------+-----------+\n",
      "|2020-08-24|    5690238|\n",
      "|2020-11-29|   13191020|\n",
      "|2020-08-05|    4782450|\n",
      "|2020-07-24|    4083294|\n",
      "|2020-08-29|    5904458|\n",
      "|2020-08-28|    5860495|\n",
      "|2020-04-30|    1073745|\n",
      "|2020-10-04|    7349267|\n",
      "|2020-09-24|    6911232|\n",
      "|2020-03-13|       3745|\n",
      "|2020-03-07|        631|\n",
      "|2020-02-15|          0|\n",
      "|2020-02-04|          0|\n",
      "|2020-05-23|    1626355|\n",
      "|2020-02-12|          0|\n",
      "|2020-09-07|    6249594|\n",
      "|2020-05-08|    1285663|\n",
      "|2020-06-04|    1872266|\n",
      "|2020-05-24|    1645215|\n",
      "|2020-10-18|    8076834|\n",
      "+----------+-----------+\n",
      "only showing top 20 rows\n",
      "\n"
     ]
    }
   ],
   "source": [
    "from pyspark.sql.functions import sum\n",
    "us_df = state_df.groupBy('date').agg(sum('positive').alias('us_positive'))\n",
    "us_df.show()"
   ]
  },
  {
   "cell_type": "code",
   "execution_count": 14,
   "metadata": {},
   "outputs": [
    {
     "name": "stdout",
     "output_type": "stream",
     "text": [
      "+----------+-----------+------------+\n",
      "|      date|us_positive|us_new_cases|\n",
      "+----------+-----------+------------+\n",
      "|2020-01-22|          0|           0|\n",
      "|2020-01-23|          0|           0|\n",
      "|2020-01-24|          0|           0|\n",
      "|2020-01-25|          0|           0|\n",
      "|2020-01-26|          0|           0|\n",
      "|2020-01-27|          0|           0|\n",
      "|2020-01-28|          0|           0|\n",
      "|2020-01-29|          0|           0|\n",
      "|2020-01-30|          0|           0|\n",
      "|2020-01-31|          0|           0|\n",
      "|2020-02-01|          0|           0|\n",
      "|2020-02-02|          0|           0|\n",
      "|2020-02-03|          0|           0|\n",
      "|2020-02-04|          0|           0|\n",
      "|2020-02-05|          0|           0|\n",
      "|2020-02-06|          0|           0|\n",
      "|2020-02-07|          0|           0|\n",
      "|2020-02-08|          0|           0|\n",
      "|2020-02-09|          0|           0|\n",
      "|2020-02-10|          0|           0|\n",
      "+----------+-----------+------------+\n",
      "only showing top 20 rows\n",
      "\n"
     ]
    }
   ],
   "source": [
    "# Create a new column showing the number of new cases\n",
    "us_df = us_df.withColumn('prev_cases', \n",
    "                         lag(us_df['us_positive']).over(Window.partitionBy().orderBy('date')))\n",
    "us_df = us_df.withColumn('us_new_cases', \n",
    "                         when(isnull(us_df['us_positive'] - us_df['prev_cases']), us_df['us_positive'])\n",
    "                         .otherwise(us_df['us_positive'] - us_df['prev_cases']))\n",
    "us_df = us_df.drop('prev_cases')\n",
    "us_df.show()"
   ]
  },
  {
   "cell_type": "markdown",
   "metadata": {},
   "source": [
    "### Merge US and IL data"
   ]
  },
  {
   "cell_type": "code",
   "execution_count": 15,
   "metadata": {},
   "outputs": [
    {
     "name": "stdout",
     "output_type": "stream",
     "text": [
      "+----------+-----------+------------+-------+-----+--------+------------+\n",
      "|      date|us_positive|us_new_cases|il_date|state|positive|il_new_cases|\n",
      "+----------+-----------+------------+-------+-----+--------+------------+\n",
      "|2020-01-22|          0|           0|   null| null|    null|        null|\n",
      "|2020-01-23|          0|           0|   null| null|    null|        null|\n",
      "|2020-01-24|          0|           0|   null| null|    null|        null|\n",
      "|2020-01-25|          0|           0|   null| null|    null|        null|\n",
      "|2020-01-26|          0|           0|   null| null|    null|        null|\n",
      "|2020-01-27|          0|           0|   null| null|    null|        null|\n",
      "|2020-01-28|          0|           0|   null| null|    null|        null|\n",
      "|2020-01-29|          0|           0|   null| null|    null|        null|\n",
      "|2020-01-30|          0|           0|   null| null|    null|        null|\n",
      "|2020-01-31|          0|           0|   null| null|    null|        null|\n",
      "|2020-02-01|          0|           0|   null| null|    null|        null|\n",
      "|2020-02-02|          0|           0|   null| null|    null|        null|\n",
      "|2020-02-03|          0|           0|   null| null|    null|        null|\n",
      "|2020-02-04|          0|           0|   null| null|    null|        null|\n",
      "|2020-02-05|          0|           0|   null| null|    null|        null|\n",
      "|2020-02-06|          0|           0|   null| null|    null|        null|\n",
      "|2020-02-07|          0|           0|   null| null|    null|        null|\n",
      "|2020-02-08|          0|           0|   null| null|    null|        null|\n",
      "|2020-02-09|          0|           0|   null| null|    null|        null|\n",
      "|2020-02-10|          0|           0|   null| null|    null|        null|\n",
      "+----------+-----------+------------+-------+-----+--------+------------+\n",
      "only showing top 20 rows\n",
      "\n"
     ]
    }
   ],
   "source": [
    "us_il_df = us_df.join(il_df, us_df['date'] == il_df['il_date'], how='outer')\n",
    "us_il_df.show()"
   ]
  },
  {
   "cell_type": "code",
   "execution_count": 16,
   "metadata": {},
   "outputs": [
    {
     "name": "stdout",
     "output_type": "stream",
     "text": [
      "root\n",
      " |-- date: date (nullable = true)\n",
      " |-- us_positive: long (nullable = true)\n",
      " |-- us_new_cases: long (nullable = true)\n",
      " |-- il_date: date (nullable = true)\n",
      " |-- state: string (nullable = true)\n",
      " |-- positive: integer (nullable = true)\n",
      " |-- il_new_cases: integer (nullable = true)\n",
      "\n"
     ]
    }
   ],
   "source": [
    "us_il_df.printSchema()"
   ]
  },
  {
   "cell_type": "code",
   "execution_count": 17,
   "metadata": {},
   "outputs": [
    {
     "name": "stdout",
     "output_type": "stream",
     "text": [
      "+----------+------------+------------+\n",
      "|      date|us_new_cases|il_new_cases|\n",
      "+----------+------------+------------+\n",
      "|2020-01-22|           0|        null|\n",
      "|2020-01-23|           0|        null|\n",
      "|2020-01-24|           0|        null|\n",
      "|2020-01-25|           0|        null|\n",
      "|2020-01-26|           0|        null|\n",
      "|2020-01-27|           0|        null|\n",
      "|2020-01-28|           0|        null|\n",
      "|2020-01-29|           0|        null|\n",
      "|2020-01-30|           0|        null|\n",
      "|2020-01-31|           0|        null|\n",
      "|2020-02-01|           0|        null|\n",
      "|2020-02-02|           0|        null|\n",
      "|2020-02-03|           0|        null|\n",
      "|2020-02-04|           0|        null|\n",
      "|2020-02-05|           0|        null|\n",
      "|2020-02-06|           0|        null|\n",
      "|2020-02-07|           0|        null|\n",
      "|2020-02-08|           0|        null|\n",
      "|2020-02-09|           0|        null|\n",
      "|2020-02-10|           0|        null|\n",
      "+----------+------------+------------+\n",
      "only showing top 20 rows\n",
      "\n"
     ]
    }
   ],
   "source": [
    "us_il_df = us_il_df.select(['date', 'us_new_cases', 'il_new_cases'])\n",
    "us_il_df.show()"
   ]
  },
  {
   "cell_type": "code",
   "execution_count": 18,
   "metadata": {},
   "outputs": [
    {
     "name": "stdout",
     "output_type": "stream",
     "text": [
      "+----------+------------+------------+\n",
      "|      date|us_new_cases|il_new_cases|\n",
      "+----------+------------+------------+\n",
      "|2020-01-22|           0|           0|\n",
      "|2020-01-23|           0|           0|\n",
      "|2020-01-24|           0|           0|\n",
      "|2020-01-25|           0|           0|\n",
      "|2020-01-26|           0|           0|\n",
      "|2020-01-27|           0|           0|\n",
      "|2020-01-28|           0|           0|\n",
      "|2020-01-29|           0|           0|\n",
      "|2020-01-30|           0|           0|\n",
      "|2020-01-31|           0|           0|\n",
      "|2020-02-01|           0|           0|\n",
      "|2020-02-02|           0|           0|\n",
      "|2020-02-03|           0|           0|\n",
      "|2020-02-04|           0|           0|\n",
      "|2020-02-05|           0|           0|\n",
      "|2020-02-06|           0|           0|\n",
      "|2020-02-07|           0|           0|\n",
      "|2020-02-08|           0|           0|\n",
      "|2020-02-09|           0|           0|\n",
      "|2020-02-10|           0|           0|\n",
      "+----------+------------+------------+\n",
      "only showing top 20 rows\n",
      "\n"
     ]
    }
   ],
   "source": [
    "# fill zeros with null\n",
    "us_il_df = us_il_df.na.fill(value=0)\n",
    "us_il_df.show()"
   ]
  },
  {
   "cell_type": "markdown",
   "metadata": {},
   "source": [
    "### Get the Bar Visit Data"
   ]
  },
  {
   "cell_type": "code",
   "execution_count": 19,
   "metadata": {},
   "outputs": [],
   "source": [
    "import covidcast\n",
    "from datetime import date"
   ]
  },
  {
   "cell_type": "raw",
   "metadata": {},
   "source": [
    "# Download the bar_visit data of Illinois via the Delphi API\n",
    "# Doc: https://cmu-delphi.github.io/delphi-epidata/api/covidcast-signals/safegraph.html#safegraph-social-distancing-metrics\n",
    "bar_visit = covidcast.signal(\"safegraph\", \"bars_visit_prop\",\n",
    "                             start_day=date(2020, 1, 1), end_day=date(2020, 12, 13),\n",
    "                             geo_type=\"state\", geo_values=\"il\")\n",
    "# Save it to a CSV file\n",
    "bar_visit.to_csv('./data/bar_visit_il.csv')"
   ]
  },
  {
   "cell_type": "code",
   "execution_count": 20,
   "metadata": {},
   "outputs": [],
   "source": [
    "bar_visit_path = './data/bar_visit_il.csv'"
   ]
  },
  {
   "cell_type": "code",
   "execution_count": 21,
   "metadata": {},
   "outputs": [],
   "source": [
    "bv_df = (spark.read.format('csv')\n",
    "        .option('header', True)\n",
    "        .option('inferSchema', True)\n",
    "        .load(bar_visit_path))\n",
    "bv_df = bv_df.select(['time_value', 'value'])\n",
    "bv_df = bv_df.withColumn('date_bar_visit', to_date(bv_df['time_value'], 'yyyy-MM-dd'))\n",
    "bv_df = bv_df.drop('time_value')\n",
    "bv_df = bv_df.withColumnRenamed('value', 'bar_visit_per_100k')"
   ]
  },
  {
   "cell_type": "code",
   "execution_count": 22,
   "metadata": {},
   "outputs": [
    {
     "name": "stdout",
     "output_type": "stream",
     "text": [
      "+------------------+--------------+\n",
      "|bar_visit_per_100k|date_bar_visit|\n",
      "+------------------+--------------+\n",
      "|   78.653387161636|    2020-01-01|\n",
      "|   75.937599557118|    2020-01-02|\n",
      "|   97.454993654458|    2020-01-03|\n",
      "|   132.23796566618|    2020-01-04|\n",
      "|   74.788612493668|    2020-01-05|\n",
      "|   54.733565567991|    2020-01-06|\n",
      "|   53.166765026923|    2020-01-07|\n",
      "|   70.610477717485|    2020-01-08|\n",
      "|   67.372423265943|    2020-01-09|\n",
      "|    86.06957638936|    2020-01-10|\n",
      "+------------------+--------------+\n",
      "only showing top 10 rows\n",
      "\n"
     ]
    }
   ],
   "source": [
    "bv_df.show(10)"
   ]
  },
  {
   "cell_type": "code",
   "execution_count": 23,
   "metadata": {},
   "outputs": [
    {
     "name": "stdout",
     "output_type": "stream",
     "text": [
      "root\n",
      " |-- bar_visit_per_100k: double (nullable = true)\n",
      " |-- date_bar_visit: date (nullable = true)\n",
      "\n"
     ]
    }
   ],
   "source": [
    "bv_df.printSchema()"
   ]
  },
  {
   "cell_type": "code",
   "execution_count": 24,
   "metadata": {},
   "outputs": [],
   "source": [
    "master_df = us_il_df.join(bv_df, us_il_df['date'] == bv_df['date_bar_visit'])\n",
    "master_df = master_df.drop('date_bar_visit').dropna()"
   ]
  },
  {
   "cell_type": "code",
   "execution_count": 25,
   "metadata": {},
   "outputs": [
    {
     "name": "stdout",
     "output_type": "stream",
     "text": [
      "+----------+------------+------------+------------------+\n",
      "|      date|us_new_cases|il_new_cases|bar_visit_per_100k|\n",
      "+----------+------------+------------+------------------+\n",
      "|2020-01-22|           0|           0|    58.59834023596|\n",
      "|2020-01-23|           0|           0|   55.464739153823|\n",
      "|2020-01-24|           0|           0|   76.146506295927|\n",
      "|2020-01-25|           0|           0|   106.02016994563|\n",
      "|2020-01-26|           0|           0|   75.206425971286|\n",
      "|2020-01-27|           0|           0|   46.481749385031|\n",
      "|2020-01-28|           0|           0|   46.795109493244|\n",
      "|2020-01-29|           0|           0|   50.868790900022|\n",
      "|2020-01-30|           0|           0|   54.211298720968|\n",
      "|2020-01-31|           0|           0|   89.620990949116|\n",
      "+----------+------------+------------+------------------+\n",
      "only showing top 10 rows\n",
      "\n"
     ]
    }
   ],
   "source": [
    "master_df.show(10)"
   ]
  },
  {
   "cell_type": "code",
   "execution_count": 26,
   "metadata": {},
   "outputs": [
    {
     "name": "stdout",
     "output_type": "stream",
     "text": [
      "+-----------------+\n",
      "|max(il_new_cases)|\n",
      "+-----------------+\n",
      "|            15415|\n",
      "+-----------------+\n",
      "\n"
     ]
    }
   ],
   "source": [
    "master_df.groupBy().agg(max(col('il_new_cases'))).show()"
   ]
  },
  {
   "cell_type": "code",
   "execution_count": 27,
   "metadata": {},
   "outputs": [],
   "source": [
    "master_pd = master_df.toPandas()"
   ]
  },
  {
   "cell_type": "code",
   "execution_count": 28,
   "metadata": {},
   "outputs": [
    {
     "data": {
      "text/html": [
       "<div>\n",
       "<style scoped>\n",
       "    .dataframe tbody tr th:only-of-type {\n",
       "        vertical-align: middle;\n",
       "    }\n",
       "\n",
       "    .dataframe tbody tr th {\n",
       "        vertical-align: top;\n",
       "    }\n",
       "\n",
       "    .dataframe thead th {\n",
       "        text-align: right;\n",
       "    }\n",
       "</style>\n",
       "<table border=\"1\" class=\"dataframe\">\n",
       "  <thead>\n",
       "    <tr style=\"text-align: right;\">\n",
       "      <th></th>\n",
       "      <th>date</th>\n",
       "      <th>us_new_cases</th>\n",
       "      <th>il_new_cases</th>\n",
       "      <th>bar_visit_per_100k</th>\n",
       "    </tr>\n",
       "  </thead>\n",
       "  <tbody>\n",
       "    <tr>\n",
       "      <th>0</th>\n",
       "      <td>2020-01-22</td>\n",
       "      <td>0</td>\n",
       "      <td>0</td>\n",
       "      <td>58.598340</td>\n",
       "    </tr>\n",
       "    <tr>\n",
       "      <th>1</th>\n",
       "      <td>2020-01-23</td>\n",
       "      <td>0</td>\n",
       "      <td>0</td>\n",
       "      <td>55.464739</td>\n",
       "    </tr>\n",
       "    <tr>\n",
       "      <th>2</th>\n",
       "      <td>2020-01-24</td>\n",
       "      <td>0</td>\n",
       "      <td>0</td>\n",
       "      <td>76.146506</td>\n",
       "    </tr>\n",
       "    <tr>\n",
       "      <th>3</th>\n",
       "      <td>2020-01-25</td>\n",
       "      <td>0</td>\n",
       "      <td>0</td>\n",
       "      <td>106.020170</td>\n",
       "    </tr>\n",
       "    <tr>\n",
       "      <th>4</th>\n",
       "      <td>2020-01-26</td>\n",
       "      <td>0</td>\n",
       "      <td>0</td>\n",
       "      <td>75.206426</td>\n",
       "    </tr>\n",
       "    <tr>\n",
       "      <th>...</th>\n",
       "      <td>...</td>\n",
       "      <td>...</td>\n",
       "      <td>...</td>\n",
       "      <td>...</td>\n",
       "    </tr>\n",
       "    <tr>\n",
       "      <th>315</th>\n",
       "      <td>2020-12-02</td>\n",
       "      <td>195796</td>\n",
       "      <td>9757</td>\n",
       "      <td>17.904610</td>\n",
       "    </tr>\n",
       "    <tr>\n",
       "      <th>316</th>\n",
       "      <td>2020-12-03</td>\n",
       "      <td>210204</td>\n",
       "      <td>10959</td>\n",
       "      <td>17.751579</td>\n",
       "    </tr>\n",
       "    <tr>\n",
       "      <th>317</th>\n",
       "      <td>2020-12-04</td>\n",
       "      <td>224831</td>\n",
       "      <td>10526</td>\n",
       "      <td>20.659165</td>\n",
       "    </tr>\n",
       "    <tr>\n",
       "      <th>318</th>\n",
       "      <td>2020-12-05</td>\n",
       "      <td>211073</td>\n",
       "      <td>9887</td>\n",
       "      <td>23.413720</td>\n",
       "    </tr>\n",
       "    <tr>\n",
       "      <th>319</th>\n",
       "      <td>2020-12-06</td>\n",
       "      <td>176771</td>\n",
       "      <td>7598</td>\n",
       "      <td>15.150054</td>\n",
       "    </tr>\n",
       "  </tbody>\n",
       "</table>\n",
       "<p>320 rows × 4 columns</p>\n",
       "</div>"
      ],
      "text/plain": [
       "           date  us_new_cases  il_new_cases  bar_visit_per_100k\n",
       "0    2020-01-22             0             0           58.598340\n",
       "1    2020-01-23             0             0           55.464739\n",
       "2    2020-01-24             0             0           76.146506\n",
       "3    2020-01-25             0             0          106.020170\n",
       "4    2020-01-26             0             0           75.206426\n",
       "..          ...           ...           ...                 ...\n",
       "315  2020-12-02        195796          9757           17.904610\n",
       "316  2020-12-03        210204         10959           17.751579\n",
       "317  2020-12-04        224831         10526           20.659165\n",
       "318  2020-12-05        211073          9887           23.413720\n",
       "319  2020-12-06        176771          7598           15.150054\n",
       "\n",
       "[320 rows x 4 columns]"
      ]
     },
     "execution_count": 28,
     "metadata": {},
     "output_type": "execute_result"
    }
   ],
   "source": [
    "master_pd"
   ]
  },
  {
   "cell_type": "code",
   "execution_count": 29,
   "metadata": {},
   "outputs": [
    {
     "data": {
      "text/plain": [
       "<AxesSubplot:xlabel='date'>"
      ]
     },
     "execution_count": 29,
     "metadata": {},
     "output_type": "execute_result"
    },
    {
     "data": {
      "image/png": "[encoded data removed]",
      "text/plain": [
       "<Figure size 432x288 with 1 Axes>"
      ]
     },
     "metadata": {
      "needs_background": "light"
     },
     "output_type": "display_data"
    }
   ],
   "source": [
    "master_pd.plot.line(x='date', y='bar_visit_per_100k')"
   ]
  },
  {
   "cell_type": "code",
   "execution_count": 30,
   "metadata": {},
   "outputs": [
    {
     "data": {
      "text/plain": [
       "<AxesSubplot:xlabel='date'>"
      ]
     },
     "execution_count": 30,
     "metadata": {},
     "output_type": "execute_result"
    },
    {
     "data": {
      "image/png": "[encoded data removed]",
      "text/plain": [
       "<Figure size 432x288 with 1 Axes>"
      ]
     },
     "metadata": {
      "needs_background": "light"
     },
     "output_type": "display_data"
    }
   ],
   "source": [
    "master_pd.plot.line(x='date', y='il_new_cases', color='r')"
   ]
  },
  {
   "cell_type": "code",
   "execution_count": 31,
   "metadata": {},
   "outputs": [
    {
     "data": {
      "text/plain": [
       "<AxesSubplot:xlabel='date'>"
      ]
     },
     "execution_count": 31,
     "metadata": {},
     "output_type": "execute_result"
    },
    {
     "data": {
      "image/png": "[encoded data removed]",
      "text/plain": [
       "<Figure size 432x288 with 1 Axes>"
      ]
     },
     "metadata": {
      "needs_background": "light"
     },
     "output_type": "display_data"
    }
   ],
   "source": [
    "master_pd.plot.line(x='date', y='us_new_cases', color='g')"
   ]
  },
  {
   "cell_type": "code",
   "execution_count": 32,
   "metadata": {},
   "outputs": [],
   "source": [
    "import seaborn as sns\n",
    "import matplotlib.pyplot as plt"
   ]
  },
  {
   "cell_type": "code",
   "execution_count": 33,
   "metadata": {},
   "outputs": [],
   "source": [
    "def line_plot(dta, ax, ay, title, ylb):\n",
    "    plt.figure(figsize=(10, 6))\n",
    "    plt.ticklabel_format(useOffset=False, style='plain')\n",
    "    sns.set_theme(style='whitegrid')\n",
    "    sns.lineplot(x=ax, y=ay, data=dta).set_title(title)\n",
    "    plt.ylabel(ylb)\n",
    "    \n",
    "    return plt"
   ]
  },
  {
   "cell_type": "code",
   "execution_count": 34,
   "metadata": {},
   "outputs": [
    {
     "data": {
      "image/png": "[encoded data removed]",
      "text/plain": [
       "<Figure size 720x432 with 1 Axes>"
      ]
     },
     "metadata": {
      "needs_background": "light"
     },
     "output_type": "display_data"
    }
   ],
   "source": [
    "bv_plot = line_plot(master_pd, 'date', 'bar_visit_per_100k', 'Bar visit per 100k', 'Bar visit')\n",
    "bv_plot.show()"
   ]
  },
  {
   "cell_type": "code",
   "execution_count": 46,
   "metadata": {},
   "outputs": [],
   "source": [
    "master_pd_ma = master_pd.copy()\n",
    "master_pd_ma = master_pd_ma.drop(['us_new_cases', 'il_new_cases', 'bar_visit_per_100k'], axis=1)\n",
    "master_pd_ma['us_MA7'] = master_pd['us_new_cases'].rolling(window=7).mean()\n",
    "master_pd_ma['il_MA7'] = master_pd['il_new_cases'].rolling(window=7).mean()\n",
    "master_pd_ma['bar_MA7'] = master_pd['bar_visit_per_100k'].rolling(window=7).mean()"
   ]
  },
  {
   "cell_type": "code",
   "execution_count": 47,
   "metadata": {},
   "outputs": [
    {
     "data": {
      "text/html": [
       "<div>\n",
       "<style scoped>\n",
       "    .dataframe tbody tr th:only-of-type {\n",
       "        vertical-align: middle;\n",
       "    }\n",
       "\n",
       "    .dataframe tbody tr th {\n",
       "        vertical-align: top;\n",
       "    }\n",
       "\n",
       "    .dataframe thead th {\n",
       "        text-align: right;\n",
       "    }\n",
       "</style>\n",
       "<table border=\"1\" class=\"dataframe\">\n",
       "  <thead>\n",
       "    <tr style=\"text-align: right;\">\n",
       "      <th></th>\n",
       "      <th>date</th>\n",
       "      <th>us_MA7</th>\n",
       "      <th>il_MA7</th>\n",
       "      <th>bar_MA7</th>\n",
       "    </tr>\n",
       "  </thead>\n",
       "  <tbody>\n",
       "    <tr>\n",
       "      <th>0</th>\n",
       "      <td>2020-01-22</td>\n",
       "      <td>NaN</td>\n",
       "      <td>NaN</td>\n",
       "      <td>NaN</td>\n",
       "    </tr>\n",
       "    <tr>\n",
       "      <th>1</th>\n",
       "      <td>2020-01-23</td>\n",
       "      <td>NaN</td>\n",
       "      <td>NaN</td>\n",
       "      <td>NaN</td>\n",
       "    </tr>\n",
       "    <tr>\n",
       "      <th>2</th>\n",
       "      <td>2020-01-24</td>\n",
       "      <td>NaN</td>\n",
       "      <td>NaN</td>\n",
       "      <td>NaN</td>\n",
       "    </tr>\n",
       "    <tr>\n",
       "      <th>3</th>\n",
       "      <td>2020-01-25</td>\n",
       "      <td>NaN</td>\n",
       "      <td>NaN</td>\n",
       "      <td>NaN</td>\n",
       "    </tr>\n",
       "    <tr>\n",
       "      <th>4</th>\n",
       "      <td>2020-01-26</td>\n",
       "      <td>NaN</td>\n",
       "      <td>NaN</td>\n",
       "      <td>NaN</td>\n",
       "    </tr>\n",
       "    <tr>\n",
       "      <th>...</th>\n",
       "      <td>...</td>\n",
       "      <td>...</td>\n",
       "      <td>...</td>\n",
       "      <td>...</td>\n",
       "    </tr>\n",
       "    <tr>\n",
       "      <th>315</th>\n",
       "      <td>2020-12-02</td>\n",
       "      <td>161422.857143</td>\n",
       "      <td>9019.428571</td>\n",
       "      <td>14.603516</td>\n",
       "    </tr>\n",
       "    <tr>\n",
       "      <th>316</th>\n",
       "      <td>2020-12-03</td>\n",
       "      <td>173404.142857</td>\n",
       "      <td>8867.571429</td>\n",
       "      <td>16.352440</td>\n",
       "    </tr>\n",
       "    <tr>\n",
       "      <th>317</th>\n",
       "      <td>2020-12-04</td>\n",
       "      <td>177847.857143</td>\n",
       "      <td>9289.285714</td>\n",
       "      <td>16.439886</td>\n",
       "    </tr>\n",
       "    <tr>\n",
       "      <th>318</th>\n",
       "      <td>2020-12-05</td>\n",
       "      <td>185926.571429</td>\n",
       "      <td>9577.000000</td>\n",
       "      <td>17.248763</td>\n",
       "    </tr>\n",
       "    <tr>\n",
       "      <th>319</th>\n",
       "      <td>2020-12-06</td>\n",
       "      <td>191859.285714</td>\n",
       "      <td>9637.000000</td>\n",
       "      <td>17.423656</td>\n",
       "    </tr>\n",
       "  </tbody>\n",
       "</table>\n",
       "<p>320 rows × 4 columns</p>\n",
       "</div>"
      ],
      "text/plain": [
       "           date         us_MA7       il_MA7    bar_MA7\n",
       "0    2020-01-22            NaN          NaN        NaN\n",
       "1    2020-01-23            NaN          NaN        NaN\n",
       "2    2020-01-24            NaN          NaN        NaN\n",
       "3    2020-01-25            NaN          NaN        NaN\n",
       "4    2020-01-26            NaN          NaN        NaN\n",
       "..          ...            ...          ...        ...\n",
       "315  2020-12-02  161422.857143  9019.428571  14.603516\n",
       "316  2020-12-03  173404.142857  8867.571429  16.352440\n",
       "317  2020-12-04  177847.857143  9289.285714  16.439886\n",
       "318  2020-12-05  185926.571429  9577.000000  17.248763\n",
       "319  2020-12-06  191859.285714  9637.000000  17.423656\n",
       "\n",
       "[320 rows x 4 columns]"
      ]
     },
     "execution_count": 47,
     "metadata": {},
     "output_type": "execute_result"
    }
   ],
   "source": [
    "master_pd_ma"
   ]
  },
  {
   "cell_type": "code",
   "execution_count": 48,
   "metadata": {},
   "outputs": [
    {
     "data": {
      "text/html": [
       "<div>\n",
       "<style scoped>\n",
       "    .dataframe tbody tr th:only-of-type {\n",
       "        vertical-align: middle;\n",
       "    }\n",
       "\n",
       "    .dataframe tbody tr th {\n",
       "        vertical-align: top;\n",
       "    }\n",
       "\n",
       "    .dataframe thead th {\n",
       "        text-align: right;\n",
       "    }\n",
       "</style>\n",
       "<table border=\"1\" class=\"dataframe\">\n",
       "  <thead>\n",
       "    <tr style=\"text-align: right;\">\n",
       "      <th></th>\n",
       "      <th>date</th>\n",
       "      <th>us_MA7</th>\n",
       "      <th>il_MA7</th>\n",
       "      <th>bar_MA7</th>\n",
       "    </tr>\n",
       "  </thead>\n",
       "  <tbody>\n",
       "    <tr>\n",
       "      <th>6</th>\n",
       "      <td>2020-01-28</td>\n",
       "      <td>0.000000</td>\n",
       "      <td>0.000000</td>\n",
       "      <td>66.387577</td>\n",
       "    </tr>\n",
       "    <tr>\n",
       "      <th>7</th>\n",
       "      <td>2020-01-29</td>\n",
       "      <td>0.000000</td>\n",
       "      <td>0.000000</td>\n",
       "      <td>65.283356</td>\n",
       "    </tr>\n",
       "    <tr>\n",
       "      <th>8</th>\n",
       "      <td>2020-01-30</td>\n",
       "      <td>0.000000</td>\n",
       "      <td>0.000000</td>\n",
       "      <td>65.104293</td>\n",
       "    </tr>\n",
       "    <tr>\n",
       "      <th>9</th>\n",
       "      <td>2020-01-31</td>\n",
       "      <td>0.000000</td>\n",
       "      <td>0.000000</td>\n",
       "      <td>67.029219</td>\n",
       "    </tr>\n",
       "    <tr>\n",
       "      <th>10</th>\n",
       "      <td>2020-02-01</td>\n",
       "      <td>0.000000</td>\n",
       "      <td>0.000000</td>\n",
       "      <td>68.954146</td>\n",
       "    </tr>\n",
       "    <tr>\n",
       "      <th>...</th>\n",
       "      <td>...</td>\n",
       "      <td>...</td>\n",
       "      <td>...</td>\n",
       "      <td>...</td>\n",
       "    </tr>\n",
       "    <tr>\n",
       "      <th>315</th>\n",
       "      <td>2020-12-02</td>\n",
       "      <td>161422.857143</td>\n",
       "      <td>9019.428571</td>\n",
       "      <td>14.603516</td>\n",
       "    </tr>\n",
       "    <tr>\n",
       "      <th>316</th>\n",
       "      <td>2020-12-03</td>\n",
       "      <td>173404.142857</td>\n",
       "      <td>8867.571429</td>\n",
       "      <td>16.352440</td>\n",
       "    </tr>\n",
       "    <tr>\n",
       "      <th>317</th>\n",
       "      <td>2020-12-04</td>\n",
       "      <td>177847.857143</td>\n",
       "      <td>9289.285714</td>\n",
       "      <td>16.439886</td>\n",
       "    </tr>\n",
       "    <tr>\n",
       "      <th>318</th>\n",
       "      <td>2020-12-05</td>\n",
       "      <td>185926.571429</td>\n",
       "      <td>9577.000000</td>\n",
       "      <td>17.248763</td>\n",
       "    </tr>\n",
       "    <tr>\n",
       "      <th>319</th>\n",
       "      <td>2020-12-06</td>\n",
       "      <td>191859.285714</td>\n",
       "      <td>9637.000000</td>\n",
       "      <td>17.423656</td>\n",
       "    </tr>\n",
       "  </tbody>\n",
       "</table>\n",
       "<p>314 rows × 4 columns</p>\n",
       "</div>"
      ],
      "text/plain": [
       "           date         us_MA7       il_MA7    bar_MA7\n",
       "6    2020-01-28       0.000000     0.000000  66.387577\n",
       "7    2020-01-29       0.000000     0.000000  65.283356\n",
       "8    2020-01-30       0.000000     0.000000  65.104293\n",
       "9    2020-01-31       0.000000     0.000000  67.029219\n",
       "10   2020-02-01       0.000000     0.000000  68.954146\n",
       "..          ...            ...          ...        ...\n",
       "315  2020-12-02  161422.857143  9019.428571  14.603516\n",
       "316  2020-12-03  173404.142857  8867.571429  16.352440\n",
       "317  2020-12-04  177847.857143  9289.285714  16.439886\n",
       "318  2020-12-05  185926.571429  9577.000000  17.248763\n",
       "319  2020-12-06  191859.285714  9637.000000  17.423656\n",
       "\n",
       "[314 rows x 4 columns]"
      ]
     },
     "execution_count": 48,
     "metadata": {},
     "output_type": "execute_result"
    }
   ],
   "source": [
    "master_pd_ma = master_pd_ma.dropna()\n",
    "master_pd_ma"
   ]
  },
  {
   "cell_type": "code",
   "execution_count": 49,
   "metadata": {},
   "outputs": [
    {
     "data": {
      "image/png": "[encoded data removed]",
      "text/plain": [
       "<Figure size 720x432 with 1 Axes>"
      ]
     },
     "metadata": {},
     "output_type": "display_data"
    }
   ],
   "source": [
    "bv_ma_plot = line_plot(master_pd_ma, 'date', 'bar_MA7', 'Bar visit per 100k - 7 day MA', 'Bar visit')\n",
    "bv_ma_plot.show()"
   ]
  },
  {
   "cell_type": "code",
   "execution_count": 50,
   "metadata": {},
   "outputs": [],
   "source": [
    "def max_min_normalization(dta):\n",
    "    max_val = dta.max()\n",
    "    min_val = dta.min()\n",
    "    \n",
    "    nml = (dta-min_val) / (max_val-min_val)\n",
    "    \n",
    "    return nml"
   ]
  },
  {
   "cell_type": "code",
   "execution_count": 54,
   "metadata": {},
   "outputs": [
    {
     "name": "stderr",
     "output_type": "stream",
     "text": [
      "<ipython-input-54-7467bf27e656>:1: SettingWithCopyWarning: \n",
      "A value is trying to be set on a copy of a slice from a DataFrame.\n",
      "Try using .loc[row_indexer,col_indexer] = value instead\n",
      "\n",
      "See the caveats in the documentation: https://pandas.pydata.org/pandas-docs/stable/user_guide/indexing.html#returning-a-view-versus-a-copy\n",
      "  master_pd_ma['bar_MA7_nml'] = max_min_normalization(master_pd_ma['bar_MA7'])\n",
      "<ipython-input-54-7467bf27e656>:2: SettingWithCopyWarning: \n",
      "A value is trying to be set on a copy of a slice from a DataFrame.\n",
      "Try using .loc[row_indexer,col_indexer] = value instead\n",
      "\n",
      "See the caveats in the documentation: https://pandas.pydata.org/pandas-docs/stable/user_guide/indexing.html#returning-a-view-versus-a-copy\n",
      "  master_pd_ma['us_MA7_nml'] = max_min_normalization(master_pd_ma['us_MA7'])\n",
      "<ipython-input-54-7467bf27e656>:3: SettingWithCopyWarning: \n",
      "A value is trying to be set on a copy of a slice from a DataFrame.\n",
      "Try using .loc[row_indexer,col_indexer] = value instead\n",
      "\n",
      "See the caveats in the documentation: https://pandas.pydata.org/pandas-docs/stable/user_guide/indexing.html#returning-a-view-versus-a-copy\n",
      "  master_pd_ma['il_MA7_nml'] = max_min_normalization(master_pd_ma['il_MA7'])\n"
     ]
    },
    {
     "data": {
      "text/html": [
       "<div>\n",
       "<style scoped>\n",
       "    .dataframe tbody tr th:only-of-type {\n",
       "        vertical-align: middle;\n",
       "    }\n",
       "\n",
       "    .dataframe tbody tr th {\n",
       "        vertical-align: top;\n",
       "    }\n",
       "\n",
       "    .dataframe thead th {\n",
       "        text-align: right;\n",
       "    }\n",
       "</style>\n",
       "<table border=\"1\" class=\"dataframe\">\n",
       "  <thead>\n",
       "    <tr style=\"text-align: right;\">\n",
       "      <th></th>\n",
       "      <th>date</th>\n",
       "      <th>us_MA7</th>\n",
       "      <th>il_MA7</th>\n",
       "      <th>bar_MA7</th>\n",
       "      <th>bar_MA7_nml</th>\n",
       "      <th>us_MA7_nml</th>\n",
       "      <th>il_MA7_nml</th>\n",
       "    </tr>\n",
       "  </thead>\n",
       "  <tbody>\n",
       "    <tr>\n",
       "      <th>6</th>\n",
       "      <td>2020-01-28</td>\n",
       "      <td>0.000000</td>\n",
       "      <td>0.000000</td>\n",
       "      <td>66.387577</td>\n",
       "      <td>0.912879</td>\n",
       "      <td>0.000000</td>\n",
       "      <td>0.000000</td>\n",
       "    </tr>\n",
       "    <tr>\n",
       "      <th>7</th>\n",
       "      <td>2020-01-29</td>\n",
       "      <td>0.000000</td>\n",
       "      <td>0.000000</td>\n",
       "      <td>65.283356</td>\n",
       "      <td>0.896220</td>\n",
       "      <td>0.000000</td>\n",
       "      <td>0.000000</td>\n",
       "    </tr>\n",
       "    <tr>\n",
       "      <th>8</th>\n",
       "      <td>2020-01-30</td>\n",
       "      <td>0.000000</td>\n",
       "      <td>0.000000</td>\n",
       "      <td>65.104293</td>\n",
       "      <td>0.893519</td>\n",
       "      <td>0.000000</td>\n",
       "      <td>0.000000</td>\n",
       "    </tr>\n",
       "    <tr>\n",
       "      <th>9</th>\n",
       "      <td>2020-01-31</td>\n",
       "      <td>0.000000</td>\n",
       "      <td>0.000000</td>\n",
       "      <td>67.029219</td>\n",
       "      <td>0.922559</td>\n",
       "      <td>0.000000</td>\n",
       "      <td>0.000000</td>\n",
       "    </tr>\n",
       "    <tr>\n",
       "      <th>10</th>\n",
       "      <td>2020-02-01</td>\n",
       "      <td>0.000000</td>\n",
       "      <td>0.000000</td>\n",
       "      <td>68.954146</td>\n",
       "      <td>0.951600</td>\n",
       "      <td>0.000000</td>\n",
       "      <td>0.000000</td>\n",
       "    </tr>\n",
       "    <tr>\n",
       "      <th>...</th>\n",
       "      <td>...</td>\n",
       "      <td>...</td>\n",
       "      <td>...</td>\n",
       "      <td>...</td>\n",
       "      <td>...</td>\n",
       "      <td>...</td>\n",
       "      <td>...</td>\n",
       "    </tr>\n",
       "    <tr>\n",
       "      <th>315</th>\n",
       "      <td>2020-12-02</td>\n",
       "      <td>161422.857143</td>\n",
       "      <td>9019.428571</td>\n",
       "      <td>14.603516</td>\n",
       "      <td>0.131642</td>\n",
       "      <td>0.841361</td>\n",
       "      <td>0.728313</td>\n",
       "    </tr>\n",
       "    <tr>\n",
       "      <th>316</th>\n",
       "      <td>2020-12-03</td>\n",
       "      <td>173404.142857</td>\n",
       "      <td>8867.571429</td>\n",
       "      <td>16.352440</td>\n",
       "      <td>0.158027</td>\n",
       "      <td>0.903809</td>\n",
       "      <td>0.716051</td>\n",
       "    </tr>\n",
       "    <tr>\n",
       "      <th>317</th>\n",
       "      <td>2020-12-04</td>\n",
       "      <td>177847.857143</td>\n",
       "      <td>9289.285714</td>\n",
       "      <td>16.439886</td>\n",
       "      <td>0.159346</td>\n",
       "      <td>0.926970</td>\n",
       "      <td>0.750104</td>\n",
       "    </tr>\n",
       "    <tr>\n",
       "      <th>318</th>\n",
       "      <td>2020-12-05</td>\n",
       "      <td>185926.571429</td>\n",
       "      <td>9577.000000</td>\n",
       "      <td>17.248763</td>\n",
       "      <td>0.171549</td>\n",
       "      <td>0.969078</td>\n",
       "      <td>0.773337</td>\n",
       "    </tr>\n",
       "    <tr>\n",
       "      <th>319</th>\n",
       "      <td>2020-12-06</td>\n",
       "      <td>191859.285714</td>\n",
       "      <td>9637.000000</td>\n",
       "      <td>17.423656</td>\n",
       "      <td>0.174188</td>\n",
       "      <td>1.000000</td>\n",
       "      <td>0.778182</td>\n",
       "    </tr>\n",
       "  </tbody>\n",
       "</table>\n",
       "<p>314 rows × 7 columns</p>\n",
       "</div>"
      ],
      "text/plain": [
       "           date         us_MA7       il_MA7    bar_MA7  bar_MA7_nml  \\\n",
       "6    2020-01-28       0.000000     0.000000  66.387577     0.912879   \n",
       "7    2020-01-29       0.000000     0.000000  65.283356     0.896220   \n",
       "8    2020-01-30       0.000000     0.000000  65.104293     0.893519   \n",
       "9    2020-01-31       0.000000     0.000000  67.029219     0.922559   \n",
       "10   2020-02-01       0.000000     0.000000  68.954146     0.951600   \n",
       "..          ...            ...          ...        ...          ...   \n",
       "315  2020-12-02  161422.857143  9019.428571  14.603516     0.131642   \n",
       "316  2020-12-03  173404.142857  8867.571429  16.352440     0.158027   \n",
       "317  2020-12-04  177847.857143  9289.285714  16.439886     0.159346   \n",
       "318  2020-12-05  185926.571429  9577.000000  17.248763     0.171549   \n",
       "319  2020-12-06  191859.285714  9637.000000  17.423656     0.174188   \n",
       "\n",
       "     us_MA7_nml  il_MA7_nml  \n",
       "6      0.000000    0.000000  \n",
       "7      0.000000    0.000000  \n",
       "8      0.000000    0.000000  \n",
       "9      0.000000    0.000000  \n",
       "10     0.000000    0.000000  \n",
       "..          ...         ...  \n",
       "315    0.841361    0.728313  \n",
       "316    0.903809    0.716051  \n",
       "317    0.926970    0.750104  \n",
       "318    0.969078    0.773337  \n",
       "319    1.000000    0.778182  \n",
       "\n",
       "[314 rows x 7 columns]"
      ]
     },
     "execution_count": 54,
     "metadata": {},
     "output_type": "execute_result"
    }
   ],
   "source": [
    "master_pd_ma['bar_MA7_nml'] = max_min_normalization(master_pd_ma['bar_MA7'])\n",
    "master_pd_ma['us_MA7_nml'] = max_min_normalization(master_pd_ma['us_MA7'])\n",
    "master_pd_ma['il_MA7_nml'] = max_min_normalization(master_pd_ma['il_MA7'])\n",
    "master_pd_ma"
   ]
  },
  {
   "cell_type": "code",
   "execution_count": 45,
   "metadata": {},
   "outputs": [
    {
     "name": "stderr",
     "output_type": "stream",
     "text": [
      "<ipython-input-45-b3b1766c82c9>:1: SettingWithCopyWarning: \n",
      "A value is trying to be set on a copy of a slice from a DataFrame.\n",
      "Try using .loc[row_indexer,col_indexer] = value instead\n",
      "\n",
      "See the caveats in the documentation: https://pandas.pydata.org/pandas-docs/stable/user_guide/indexing.html#returning-a-view-versus-a-copy\n",
      "  master_pd_ma['date'] = pd.to_datetime(master_pd_ma['date'], format='%Y-%m-%d')\n"
     ]
    },
    {
     "data": {
      "text/html": [
       "<div>\n",
       "<style scoped>\n",
       "    .dataframe tbody tr th:only-of-type {\n",
       "        vertical-align: middle;\n",
       "    }\n",
       "\n",
       "    .dataframe tbody tr th {\n",
       "        vertical-align: top;\n",
       "    }\n",
       "\n",
       "    .dataframe thead th {\n",
       "        text-align: right;\n",
       "    }\n",
       "</style>\n",
       "<table border=\"1\" class=\"dataframe\">\n",
       "  <thead>\n",
       "    <tr style=\"text-align: right;\">\n",
       "      <th></th>\n",
       "      <th>date</th>\n",
       "      <th>us_MA7</th>\n",
       "      <th>il_MA7</th>\n",
       "      <th>bar_MA7</th>\n",
       "      <th>bar_MA7_nml</th>\n",
       "      <th>us_MA7_nml</th>\n",
       "      <th>il_MA7_nml</th>\n",
       "    </tr>\n",
       "  </thead>\n",
       "  <tbody>\n",
       "    <tr>\n",
       "      <th>6</th>\n",
       "      <td>2020-01-28</td>\n",
       "      <td>0.000000</td>\n",
       "      <td>0.000000</td>\n",
       "      <td>66.387577</td>\n",
       "      <td>0.912879</td>\n",
       "      <td>0.000000</td>\n",
       "      <td>0.000000</td>\n",
       "    </tr>\n",
       "    <tr>\n",
       "      <th>7</th>\n",
       "      <td>2020-01-29</td>\n",
       "      <td>0.000000</td>\n",
       "      <td>0.000000</td>\n",
       "      <td>65.283356</td>\n",
       "      <td>0.896220</td>\n",
       "      <td>0.000000</td>\n",
       "      <td>0.000000</td>\n",
       "    </tr>\n",
       "    <tr>\n",
       "      <th>8</th>\n",
       "      <td>2020-01-30</td>\n",
       "      <td>0.000000</td>\n",
       "      <td>0.000000</td>\n",
       "      <td>65.104293</td>\n",
       "      <td>0.893519</td>\n",
       "      <td>0.000000</td>\n",
       "      <td>0.000000</td>\n",
       "    </tr>\n",
       "    <tr>\n",
       "      <th>9</th>\n",
       "      <td>2020-01-31</td>\n",
       "      <td>0.000000</td>\n",
       "      <td>0.000000</td>\n",
       "      <td>67.029219</td>\n",
       "      <td>0.922559</td>\n",
       "      <td>0.000000</td>\n",
       "      <td>0.000000</td>\n",
       "    </tr>\n",
       "    <tr>\n",
       "      <th>10</th>\n",
       "      <td>2020-02-01</td>\n",
       "      <td>0.000000</td>\n",
       "      <td>0.000000</td>\n",
       "      <td>68.954146</td>\n",
       "      <td>0.951600</td>\n",
       "      <td>0.000000</td>\n",
       "      <td>0.000000</td>\n",
       "    </tr>\n",
       "    <tr>\n",
       "      <th>...</th>\n",
       "      <td>...</td>\n",
       "      <td>...</td>\n",
       "      <td>...</td>\n",
       "      <td>...</td>\n",
       "      <td>...</td>\n",
       "      <td>...</td>\n",
       "      <td>...</td>\n",
       "    </tr>\n",
       "    <tr>\n",
       "      <th>315</th>\n",
       "      <td>2020-12-02</td>\n",
       "      <td>161422.857143</td>\n",
       "      <td>9019.428571</td>\n",
       "      <td>14.603516</td>\n",
       "      <td>0.131642</td>\n",
       "      <td>0.841361</td>\n",
       "      <td>0.728313</td>\n",
       "    </tr>\n",
       "    <tr>\n",
       "      <th>316</th>\n",
       "      <td>2020-12-03</td>\n",
       "      <td>173404.142857</td>\n",
       "      <td>8867.571429</td>\n",
       "      <td>16.352440</td>\n",
       "      <td>0.158027</td>\n",
       "      <td>0.903809</td>\n",
       "      <td>0.716051</td>\n",
       "    </tr>\n",
       "    <tr>\n",
       "      <th>317</th>\n",
       "      <td>2020-12-04</td>\n",
       "      <td>177847.857143</td>\n",
       "      <td>9289.285714</td>\n",
       "      <td>16.439886</td>\n",
       "      <td>0.159346</td>\n",
       "      <td>0.926970</td>\n",
       "      <td>0.750104</td>\n",
       "    </tr>\n",
       "    <tr>\n",
       "      <th>318</th>\n",
       "      <td>2020-12-05</td>\n",
       "      <td>185926.571429</td>\n",
       "      <td>9577.000000</td>\n",
       "      <td>17.248763</td>\n",
       "      <td>0.171549</td>\n",
       "      <td>0.969078</td>\n",
       "      <td>0.773337</td>\n",
       "    </tr>\n",
       "    <tr>\n",
       "      <th>319</th>\n",
       "      <td>2020-12-06</td>\n",
       "      <td>191859.285714</td>\n",
       "      <td>9637.000000</td>\n",
       "      <td>17.423656</td>\n",
       "      <td>0.174188</td>\n",
       "      <td>1.000000</td>\n",
       "      <td>0.778182</td>\n",
       "    </tr>\n",
       "  </tbody>\n",
       "</table>\n",
       "<p>314 rows × 7 columns</p>\n",
       "</div>"
      ],
      "text/plain": [
       "          date         us_MA7       il_MA7    bar_MA7  bar_MA7_nml  \\\n",
       "6   2020-01-28       0.000000     0.000000  66.387577     0.912879   \n",
       "7   2020-01-29       0.000000     0.000000  65.283356     0.896220   \n",
       "8   2020-01-30       0.000000     0.000000  65.104293     0.893519   \n",
       "9   2020-01-31       0.000000     0.000000  67.029219     0.922559   \n",
       "10  2020-02-01       0.000000     0.000000  68.954146     0.951600   \n",
       "..         ...            ...          ...        ...          ...   \n",
       "315 2020-12-02  161422.857143  9019.428571  14.603516     0.131642   \n",
       "316 2020-12-03  173404.142857  8867.571429  16.352440     0.158027   \n",
       "317 2020-12-04  177847.857143  9289.285714  16.439886     0.159346   \n",
       "318 2020-12-05  185926.571429  9577.000000  17.248763     0.171549   \n",
       "319 2020-12-06  191859.285714  9637.000000  17.423656     0.174188   \n",
       "\n",
       "     us_MA7_nml  il_MA7_nml  \n",
       "6      0.000000    0.000000  \n",
       "7      0.000000    0.000000  \n",
       "8      0.000000    0.000000  \n",
       "9      0.000000    0.000000  \n",
       "10     0.000000    0.000000  \n",
       "..          ...         ...  \n",
       "315    0.841361    0.728313  \n",
       "316    0.903809    0.716051  \n",
       "317    0.926970    0.750104  \n",
       "318    0.969078    0.773337  \n",
       "319    1.000000    0.778182  \n",
       "\n",
       "[314 rows x 7 columns]"
      ]
     },
     "execution_count": 45,
     "metadata": {},
     "output_type": "execute_result"
    }
   ],
   "source": [
    "master_pd_ma['date'] = pd.to_datetime(master_pd_ma['date'], format='%Y-%m-%d')\n",
    "master_pd_ma"
   ]
  },
  {
   "cell_type": "code",
   "execution_count": 41,
   "metadata": {},
   "outputs": [
    {
     "data": {
      "image/png": "[encoded data removed]",
      "text/plain": [
       "<Figure size 720x432 with 1 Axes>"
      ]
     },
     "metadata": {},
     "output_type": "display_data"
    }
   ],
   "source": [
    "plt.figure(figsize=(10, 6))\n",
    "plt.ticklabel_format(useOffset=False, style='plain')\n",
    "sns.set_theme(style='whitegrid')\n",
    "sns.lineplot(x='date', y='bar_MA7_nml', data=master_pd_ma, label='Bar Visits').set_title('Bar visit v. IL Covid cases')\n",
    "sns.lineplot(x='date', y='il_MA7_nml', data=master_pd_ma, label='IL Cases')\n",
    "plt.ylabel('Normalized values')\n",
    "plt.show()"
   ]
  },
  {
   "cell_type": "raw",
   "metadata": {},
   "source": [
    "Cut out the part that contains the surge in the middle of 2020."
   ]
  },
  {
   "cell_type": "code",
   "execution_count": 57,
   "metadata": {},
   "outputs": [
    {
     "data": {
      "text/html": [
       "<div>\n",
       "<style scoped>\n",
       "    .dataframe tbody tr th:only-of-type {\n",
       "        vertical-align: middle;\n",
       "    }\n",
       "\n",
       "    .dataframe tbody tr th {\n",
       "        vertical-align: top;\n",
       "    }\n",
       "\n",
       "    .dataframe thead th {\n",
       "        text-align: right;\n",
       "    }\n",
       "</style>\n",
       "<table border=\"1\" class=\"dataframe\">\n",
       "  <thead>\n",
       "    <tr style=\"text-align: right;\">\n",
       "      <th></th>\n",
       "      <th>date</th>\n",
       "      <th>il_MA7</th>\n",
       "    </tr>\n",
       "  </thead>\n",
       "  <tbody>\n",
       "    <tr>\n",
       "      <th>146</th>\n",
       "      <td>2020-06-16</td>\n",
       "      <td>652.000000</td>\n",
       "    </tr>\n",
       "    <tr>\n",
       "      <th>147</th>\n",
       "      <td>2020-06-17</td>\n",
       "      <td>640.714286</td>\n",
       "    </tr>\n",
       "    <tr>\n",
       "      <th>148</th>\n",
       "      <td>2020-06-18</td>\n",
       "      <td>616.000000</td>\n",
       "    </tr>\n",
       "    <tr>\n",
       "      <th>149</th>\n",
       "      <td>2020-06-19</td>\n",
       "      <td>630.142857</td>\n",
       "    </tr>\n",
       "    <tr>\n",
       "      <th>150</th>\n",
       "      <td>2020-06-20</td>\n",
       "      <td>624.571429</td>\n",
       "    </tr>\n",
       "    <tr>\n",
       "      <th>...</th>\n",
       "      <td>...</td>\n",
       "      <td>...</td>\n",
       "    </tr>\n",
       "    <tr>\n",
       "      <th>248</th>\n",
       "      <td>2020-09-26</td>\n",
       "      <td>1965.857143</td>\n",
       "    </tr>\n",
       "    <tr>\n",
       "      <th>249</th>\n",
       "      <td>2020-09-27</td>\n",
       "      <td>1994.714286</td>\n",
       "    </tr>\n",
       "    <tr>\n",
       "      <th>250</th>\n",
       "      <td>2020-09-28</td>\n",
       "      <td>2027.857143</td>\n",
       "    </tr>\n",
       "    <tr>\n",
       "      <th>251</th>\n",
       "      <td>2020-09-29</td>\n",
       "      <td>2003.714286</td>\n",
       "    </tr>\n",
       "    <tr>\n",
       "      <th>252</th>\n",
       "      <td>2020-09-30</td>\n",
       "      <td>2064.428571</td>\n",
       "    </tr>\n",
       "  </tbody>\n",
       "</table>\n",
       "<p>107 rows × 2 columns</p>\n",
       "</div>"
      ],
      "text/plain": [
       "           date       il_MA7\n",
       "146  2020-06-16   652.000000\n",
       "147  2020-06-17   640.714286\n",
       "148  2020-06-18   616.000000\n",
       "149  2020-06-19   630.142857\n",
       "150  2020-06-20   624.571429\n",
       "..          ...          ...\n",
       "248  2020-09-26  1965.857143\n",
       "249  2020-09-27  1994.714286\n",
       "250  2020-09-28  2027.857143\n",
       "251  2020-09-29  2003.714286\n",
       "252  2020-09-30  2064.428571\n",
       "\n",
       "[107 rows x 2 columns]"
      ]
     },
     "execution_count": 57,
     "metadata": {},
     "output_type": "execute_result"
    }
   ],
   "source": [
    "# Get Illinois case number from middle of June 2020 to October 2020.\n",
    "after_midjune = master_pd_ma['date'] > pd.to_datetime('2020-06-15').date()\n",
    "before_oct = master_pd_ma['date'] < pd.to_datetime('2020-10-01').date()\n",
    "midjune_oct = after_midjune & before_oct\n",
    "il_midjune_oct = master_pd_ma.loc[midjune_oct, ['date', 'il_MA7']]\n",
    "il_midjune_oct"
   ]
  },
  {
   "cell_type": "code",
   "execution_count": 58,
   "metadata": {},
   "outputs": [
    {
     "data": {
      "text/html": [
       "<div>\n",
       "<style scoped>\n",
       "    .dataframe tbody tr th:only-of-type {\n",
       "        vertical-align: middle;\n",
       "    }\n",
       "\n",
       "    .dataframe tbody tr th {\n",
       "        vertical-align: top;\n",
       "    }\n",
       "\n",
       "    .dataframe thead th {\n",
       "        text-align: right;\n",
       "    }\n",
       "</style>\n",
       "<table border=\"1\" class=\"dataframe\">\n",
       "  <thead>\n",
       "    <tr style=\"text-align: right;\">\n",
       "      <th></th>\n",
       "      <th>date</th>\n",
       "      <th>bar_MA7</th>\n",
       "    </tr>\n",
       "  </thead>\n",
       "  <tbody>\n",
       "    <tr>\n",
       "      <th>101</th>\n",
       "      <td>2020-05-02</td>\n",
       "      <td>8.109202</td>\n",
       "    </tr>\n",
       "    <tr>\n",
       "      <th>102</th>\n",
       "      <td>2020-05-03</td>\n",
       "      <td>7.729549</td>\n",
       "    </tr>\n",
       "    <tr>\n",
       "      <th>103</th>\n",
       "      <td>2020-05-04</td>\n",
       "      <td>7.744471</td>\n",
       "    </tr>\n",
       "    <tr>\n",
       "      <th>104</th>\n",
       "      <td>2020-05-05</td>\n",
       "      <td>7.744471</td>\n",
       "    </tr>\n",
       "    <tr>\n",
       "      <th>105</th>\n",
       "      <td>2020-05-06</td>\n",
       "      <td>7.744471</td>\n",
       "    </tr>\n",
       "    <tr>\n",
       "      <th>...</th>\n",
       "      <td>...</td>\n",
       "      <td>...</td>\n",
       "    </tr>\n",
       "    <tr>\n",
       "      <th>218</th>\n",
       "      <td>2020-08-27</td>\n",
       "      <td>39.015393</td>\n",
       "    </tr>\n",
       "    <tr>\n",
       "      <th>219</th>\n",
       "      <td>2020-08-28</td>\n",
       "      <td>36.649566</td>\n",
       "    </tr>\n",
       "    <tr>\n",
       "      <th>220</th>\n",
       "      <td>2020-08-29</td>\n",
       "      <td>36.047732</td>\n",
       "    </tr>\n",
       "    <tr>\n",
       "      <th>221</th>\n",
       "      <td>2020-08-30</td>\n",
       "      <td>34.906325</td>\n",
       "    </tr>\n",
       "    <tr>\n",
       "      <th>222</th>\n",
       "      <td>2020-08-31</td>\n",
       "      <td>34.407803</td>\n",
       "    </tr>\n",
       "  </tbody>\n",
       "</table>\n",
       "<p>122 rows × 2 columns</p>\n",
       "</div>"
      ],
      "text/plain": [
       "           date    bar_MA7\n",
       "101  2020-05-02   8.109202\n",
       "102  2020-05-03   7.729549\n",
       "103  2020-05-04   7.744471\n",
       "104  2020-05-05   7.744471\n",
       "105  2020-05-06   7.744471\n",
       "..          ...        ...\n",
       "218  2020-08-27  39.015393\n",
       "219  2020-08-28  36.649566\n",
       "220  2020-08-29  36.047732\n",
       "221  2020-08-30  34.906325\n",
       "222  2020-08-31  34.407803\n",
       "\n",
       "[122 rows x 2 columns]"
      ]
     },
     "execution_count": 58,
     "metadata": {},
     "output_type": "execute_result"
    }
   ],
   "source": [
    "after_may = master_pd_ma['date'] > pd.to_datetime('2020-05-01').date()\n",
    "before_sept = master_pd_ma['date'] < pd.to_datetime('2020-09-01').date()\n",
    "may_sept = after_may & before_sept\n",
    "bar_may_sept = master_pd_ma.loc[may_sept, ['date', 'bar_MA7']]\n",
    "bar_may_sept"
   ]
  },
  {
   "cell_type": "code",
   "execution_count": 59,
   "metadata": {},
   "outputs": [
    {
     "data": {
      "text/html": [
       "<div>\n",
       "<style scoped>\n",
       "    .dataframe tbody tr th:only-of-type {\n",
       "        vertical-align: middle;\n",
       "    }\n",
       "\n",
       "    .dataframe tbody tr th {\n",
       "        vertical-align: top;\n",
       "    }\n",
       "\n",
       "    .dataframe thead th {\n",
       "        text-align: right;\n",
       "    }\n",
       "</style>\n",
       "<table border=\"1\" class=\"dataframe\">\n",
       "  <thead>\n",
       "    <tr style=\"text-align: right;\">\n",
       "      <th></th>\n",
       "      <th>date</th>\n",
       "      <th>il_MA7</th>\n",
       "      <th>il_MA7_nml</th>\n",
       "    </tr>\n",
       "  </thead>\n",
       "  <tbody>\n",
       "    <tr>\n",
       "      <th>146</th>\n",
       "      <td>2020-06-16</td>\n",
       "      <td>652.000000</td>\n",
       "      <td>0.019799</td>\n",
       "    </tr>\n",
       "    <tr>\n",
       "      <th>147</th>\n",
       "      <td>2020-06-17</td>\n",
       "      <td>640.714286</td>\n",
       "      <td>0.013592</td>\n",
       "    </tr>\n",
       "    <tr>\n",
       "      <th>148</th>\n",
       "      <td>2020-06-18</td>\n",
       "      <td>616.000000</td>\n",
       "      <td>0.000000</td>\n",
       "    </tr>\n",
       "    <tr>\n",
       "      <th>149</th>\n",
       "      <td>2020-06-19</td>\n",
       "      <td>630.142857</td>\n",
       "      <td>0.007778</td>\n",
       "    </tr>\n",
       "    <tr>\n",
       "      <th>150</th>\n",
       "      <td>2020-06-20</td>\n",
       "      <td>624.571429</td>\n",
       "      <td>0.004714</td>\n",
       "    </tr>\n",
       "    <tr>\n",
       "      <th>...</th>\n",
       "      <td>...</td>\n",
       "      <td>...</td>\n",
       "      <td>...</td>\n",
       "    </tr>\n",
       "    <tr>\n",
       "      <th>248</th>\n",
       "      <td>2020-09-26</td>\n",
       "      <td>1965.857143</td>\n",
       "      <td>0.742379</td>\n",
       "    </tr>\n",
       "    <tr>\n",
       "      <th>249</th>\n",
       "      <td>2020-09-27</td>\n",
       "      <td>1994.714286</td>\n",
       "      <td>0.758250</td>\n",
       "    </tr>\n",
       "    <tr>\n",
       "      <th>250</th>\n",
       "      <td>2020-09-28</td>\n",
       "      <td>2027.857143</td>\n",
       "      <td>0.776477</td>\n",
       "    </tr>\n",
       "    <tr>\n",
       "      <th>251</th>\n",
       "      <td>2020-09-29</td>\n",
       "      <td>2003.714286</td>\n",
       "      <td>0.763199</td>\n",
       "    </tr>\n",
       "    <tr>\n",
       "      <th>252</th>\n",
       "      <td>2020-09-30</td>\n",
       "      <td>2064.428571</td>\n",
       "      <td>0.796590</td>\n",
       "    </tr>\n",
       "  </tbody>\n",
       "</table>\n",
       "<p>107 rows × 3 columns</p>\n",
       "</div>"
      ],
      "text/plain": [
       "           date       il_MA7  il_MA7_nml\n",
       "146  2020-06-16   652.000000    0.019799\n",
       "147  2020-06-17   640.714286    0.013592\n",
       "148  2020-06-18   616.000000    0.000000\n",
       "149  2020-06-19   630.142857    0.007778\n",
       "150  2020-06-20   624.571429    0.004714\n",
       "..          ...          ...         ...\n",
       "248  2020-09-26  1965.857143    0.742379\n",
       "249  2020-09-27  1994.714286    0.758250\n",
       "250  2020-09-28  2027.857143    0.776477\n",
       "251  2020-09-29  2003.714286    0.763199\n",
       "252  2020-09-30  2064.428571    0.796590\n",
       "\n",
       "[107 rows x 3 columns]"
      ]
     },
     "execution_count": 59,
     "metadata": {},
     "output_type": "execute_result"
    }
   ],
   "source": [
    "il_midjune_oct['il_MA7_nml'] = max_min_normalization(il_midjune_oct['il_MA7'])\n",
    "il_midjune_oct"
   ]
  },
  {
   "cell_type": "code",
   "execution_count": 60,
   "metadata": {},
   "outputs": [
    {
     "data": {
      "text/html": [
       "<div>\n",
       "<style scoped>\n",
       "    .dataframe tbody tr th:only-of-type {\n",
       "        vertical-align: middle;\n",
       "    }\n",
       "\n",
       "    .dataframe tbody tr th {\n",
       "        vertical-align: top;\n",
       "    }\n",
       "\n",
       "    .dataframe thead th {\n",
       "        text-align: right;\n",
       "    }\n",
       "</style>\n",
       "<table border=\"1\" class=\"dataframe\">\n",
       "  <thead>\n",
       "    <tr style=\"text-align: right;\">\n",
       "      <th></th>\n",
       "      <th>date</th>\n",
       "      <th>bar_MA7</th>\n",
       "      <th>bar_MA7_nml</th>\n",
       "    </tr>\n",
       "  </thead>\n",
       "  <tbody>\n",
       "    <tr>\n",
       "      <th>101</th>\n",
       "      <td>2020-05-02</td>\n",
       "      <td>8.109202</td>\n",
       "      <td>0.011158</td>\n",
       "    </tr>\n",
       "    <tr>\n",
       "      <th>102</th>\n",
       "      <td>2020-05-03</td>\n",
       "      <td>7.729549</td>\n",
       "      <td>0.000000</td>\n",
       "    </tr>\n",
       "    <tr>\n",
       "      <th>103</th>\n",
       "      <td>2020-05-04</td>\n",
       "      <td>7.744471</td>\n",
       "      <td>0.000439</td>\n",
       "    </tr>\n",
       "    <tr>\n",
       "      <th>104</th>\n",
       "      <td>2020-05-05</td>\n",
       "      <td>7.744471</td>\n",
       "      <td>0.000439</td>\n",
       "    </tr>\n",
       "    <tr>\n",
       "      <th>105</th>\n",
       "      <td>2020-05-06</td>\n",
       "      <td>7.744471</td>\n",
       "      <td>0.000439</td>\n",
       "    </tr>\n",
       "    <tr>\n",
       "      <th>...</th>\n",
       "      <td>...</td>\n",
       "      <td>...</td>\n",
       "      <td>...</td>\n",
       "    </tr>\n",
       "    <tr>\n",
       "      <th>218</th>\n",
       "      <td>2020-08-27</td>\n",
       "      <td>39.015393</td>\n",
       "      <td>0.919490</td>\n",
       "    </tr>\n",
       "    <tr>\n",
       "      <th>219</th>\n",
       "      <td>2020-08-28</td>\n",
       "      <td>36.649566</td>\n",
       "      <td>0.849958</td>\n",
       "    </tr>\n",
       "    <tr>\n",
       "      <th>220</th>\n",
       "      <td>2020-08-29</td>\n",
       "      <td>36.047732</td>\n",
       "      <td>0.832270</td>\n",
       "    </tr>\n",
       "    <tr>\n",
       "      <th>221</th>\n",
       "      <td>2020-08-30</td>\n",
       "      <td>34.906325</td>\n",
       "      <td>0.798724</td>\n",
       "    </tr>\n",
       "    <tr>\n",
       "      <th>222</th>\n",
       "      <td>2020-08-31</td>\n",
       "      <td>34.407803</td>\n",
       "      <td>0.784073</td>\n",
       "    </tr>\n",
       "  </tbody>\n",
       "</table>\n",
       "<p>122 rows × 3 columns</p>\n",
       "</div>"
      ],
      "text/plain": [
       "           date    bar_MA7  bar_MA7_nml\n",
       "101  2020-05-02   8.109202     0.011158\n",
       "102  2020-05-03   7.729549     0.000000\n",
       "103  2020-05-04   7.744471     0.000439\n",
       "104  2020-05-05   7.744471     0.000439\n",
       "105  2020-05-06   7.744471     0.000439\n",
       "..          ...        ...          ...\n",
       "218  2020-08-27  39.015393     0.919490\n",
       "219  2020-08-28  36.649566     0.849958\n",
       "220  2020-08-29  36.047732     0.832270\n",
       "221  2020-08-30  34.906325     0.798724\n",
       "222  2020-08-31  34.407803     0.784073\n",
       "\n",
       "[122 rows x 3 columns]"
      ]
     },
     "execution_count": 60,
     "metadata": {},
     "output_type": "execute_result"
    }
   ],
   "source": [
    "bar_may_sept['bar_MA7_nml'] = max_min_normalization(bar_may_sept['bar_MA7'])\n",
    "bar_may_sept"
   ]
  },
  {
   "cell_type": "code",
   "execution_count": 61,
   "metadata": {},
   "outputs": [],
   "source": [
    "surge_2020 = pd.merge(il_midjune_oct, bar_may_sept, how='outer', left_on='date', right_on='date')\n",
    "surge_2020"
   ]
  },
  {
   "cell_type": "code",
   "execution_count": 62,
   "metadata": {},
   "outputs": [
    {
     "data": {
      "text/html": [
       "<div>\n",
       "<style scoped>\n",
       "    .dataframe tbody tr th:only-of-type {\n",
       "        vertical-align: middle;\n",
       "    }\n",
       "\n",
       "    .dataframe tbody tr th {\n",
       "        vertical-align: top;\n",
       "    }\n",
       "\n",
       "    .dataframe thead th {\n",
       "        text-align: right;\n",
       "    }\n",
       "</style>\n",
       "<table border=\"1\" class=\"dataframe\">\n",
       "  <thead>\n",
       "    <tr style=\"text-align: right;\">\n",
       "      <th></th>\n",
       "      <th>date</th>\n",
       "      <th>il_MA7</th>\n",
       "      <th>il_MA7_nml</th>\n",
       "      <th>bar_MA7</th>\n",
       "      <th>bar_MA7_nml</th>\n",
       "    </tr>\n",
       "  </thead>\n",
       "  <tbody>\n",
       "    <tr>\n",
       "      <th>0</th>\n",
       "      <td>2020-06-16</td>\n",
       "      <td>652.000000</td>\n",
       "      <td>0.019799</td>\n",
       "      <td>24.859902</td>\n",
       "      <td>0.503460</td>\n",
       "    </tr>\n",
       "    <tr>\n",
       "      <th>1</th>\n",
       "      <td>2020-06-17</td>\n",
       "      <td>640.714286</td>\n",
       "      <td>0.013592</td>\n",
       "      <td>25.785060</td>\n",
       "      <td>0.530651</td>\n",
       "    </tr>\n",
       "    <tr>\n",
       "      <th>2</th>\n",
       "      <td>2020-06-18</td>\n",
       "      <td>616.000000</td>\n",
       "      <td>0.000000</td>\n",
       "      <td>26.217796</td>\n",
       "      <td>0.543369</td>\n",
       "    </tr>\n",
       "    <tr>\n",
       "      <th>3</th>\n",
       "      <td>2020-06-19</td>\n",
       "      <td>630.142857</td>\n",
       "      <td>0.007778</td>\n",
       "      <td>27.665221</td>\n",
       "      <td>0.585909</td>\n",
       "    </tr>\n",
       "    <tr>\n",
       "      <th>4</th>\n",
       "      <td>2020-06-20</td>\n",
       "      <td>624.571429</td>\n",
       "      <td>0.004714</td>\n",
       "      <td>27.560768</td>\n",
       "      <td>0.582839</td>\n",
       "    </tr>\n",
       "    <tr>\n",
       "      <th>...</th>\n",
       "      <td>...</td>\n",
       "      <td>...</td>\n",
       "      <td>...</td>\n",
       "      <td>...</td>\n",
       "      <td>...</td>\n",
       "    </tr>\n",
       "    <tr>\n",
       "      <th>147</th>\n",
       "      <td>2020-06-11</td>\n",
       "      <td>NaN</td>\n",
       "      <td>NaN</td>\n",
       "      <td>23.009585</td>\n",
       "      <td>0.449080</td>\n",
       "    </tr>\n",
       "    <tr>\n",
       "      <th>148</th>\n",
       "      <td>2020-06-12</td>\n",
       "      <td>NaN</td>\n",
       "      <td>NaN</td>\n",
       "      <td>23.024507</td>\n",
       "      <td>0.449518</td>\n",
       "    </tr>\n",
       "    <tr>\n",
       "      <th>149</th>\n",
       "      <td>2020-06-13</td>\n",
       "      <td>NaN</td>\n",
       "      <td>NaN</td>\n",
       "      <td>22.994663</td>\n",
       "      <td>0.448641</td>\n",
       "    </tr>\n",
       "    <tr>\n",
       "      <th>150</th>\n",
       "      <td>2020-06-14</td>\n",
       "      <td>NaN</td>\n",
       "      <td>NaN</td>\n",
       "      <td>23.606461</td>\n",
       "      <td>0.466622</td>\n",
       "    </tr>\n",
       "    <tr>\n",
       "      <th>151</th>\n",
       "      <td>2020-06-15</td>\n",
       "      <td>NaN</td>\n",
       "      <td>NaN</td>\n",
       "      <td>24.113806</td>\n",
       "      <td>0.481533</td>\n",
       "    </tr>\n",
       "  </tbody>\n",
       "</table>\n",
       "<p>152 rows × 5 columns</p>\n",
       "</div>"
      ],
      "text/plain": [
       "           date      il_MA7  il_MA7_nml    bar_MA7  bar_MA7_nml\n",
       "0    2020-06-16  652.000000    0.019799  24.859902     0.503460\n",
       "1    2020-06-17  640.714286    0.013592  25.785060     0.530651\n",
       "2    2020-06-18  616.000000    0.000000  26.217796     0.543369\n",
       "3    2020-06-19  630.142857    0.007778  27.665221     0.585909\n",
       "4    2020-06-20  624.571429    0.004714  27.560768     0.582839\n",
       "..          ...         ...         ...        ...          ...\n",
       "147  2020-06-11         NaN         NaN  23.009585     0.449080\n",
       "148  2020-06-12         NaN         NaN  23.024507     0.449518\n",
       "149  2020-06-13         NaN         NaN  22.994663     0.448641\n",
       "150  2020-06-14         NaN         NaN  23.606461     0.466622\n",
       "151  2020-06-15         NaN         NaN  24.113806     0.481533\n",
       "\n",
       "[152 rows x 5 columns]"
      ]
     },
     "execution_count": 62,
     "metadata": {},
     "output_type": "execute_result"
    }
   ],
   "source": []
  },
  {
   "cell_type": "code",
   "execution_count": 63,
   "metadata": {},
   "outputs": [
    {
     "data": {
      "image/png": "[encoded data removed]",
      "text/plain": [
       "<Figure size 720x432 with 1 Axes>"
      ]
     },
     "metadata": {},
     "output_type": "display_data"
    }
   ],
   "source": [
    "plt.figure(figsize=(10, 6))\n",
    "plt.ticklabel_format(useOffset=False, style='plain')\n",
    "sns.set_theme(style='whitegrid')\n",
    "sns.lineplot(x='date', y='bar_MA7_nml', data=surge_2020, label='Bar Visits').set_title('Bar visit v. IL Covid cases')\n",
    "sns.lineplot(x='date', y='il_MA7_nml', data=surge_2020, label='IL Cases')\n",
    "plt.ylabel('Normalized values')\n",
    "plt.show()"
   ]
  },
  {
   "cell_type": "code",
   "execution_count": null,
   "metadata": {},
   "outputs": [],
   "source": []
  }
 ],
 "metadata": {
  "kernelspec": {
   "display_name": "Python 3",
   "language": "python",
   "name": "python3"
  },
  "language_info": {
   "codemirror_mode": {
    "name": "ipython",
    "version": 3
   },
   "file_extension": ".py",
   "mimetype": "text/x-python",
   "name": "python",
   "nbconvert_exporter": "python",
   "pygments_lexer": "ipython3",
   "version": "3.8.3"
  }
 },
 "nbformat": 4,
 "nbformat_minor": 4
}
