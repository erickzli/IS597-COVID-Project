{
 "cells": [
  {
   "cell_type": "markdown",
   "metadata": {},
   "source": [
    "## Data Notes\n",
    "This dataset was pulled from the Bureau of Labor Statistics at https://beta.bls.gov/dataViewer/view/timeseries/LASST170000000000003\n",
    "\n",
    "It should be noted that the dataset is seasonally adjusted, so I don't need to worry about dips in unemployment actually just being a seasonal dip. It would perhaps be interesting to compare this data with the unadjusted version in a easy line graph of something.\n",
    "\n",
    "Also, it should be noted as well that LASST170000000000003 stands for Illinois. I'm not exactly sure why they chose this specific code for Illinois, but all the states, territories, and large metropolitan areas (NYC, LA, and DC) have a code like this.\n",
    "\n",
    "So I looked up the codes for BLS. It looks like a lot of information goes into these codes, but it's the first two numbers that determine the state. In this case, 17 is Illinois; although, the state code is technically ST1700000000000 for Illinois. the 03 at the end stands for unemployment rate. The first S also likely means that the data is seasonally adjusted. I'll include the links to all the codes below.\n",
    "\n",
    "* Page to find all codes - https://www.bls.gov/help/hlpforma.htm\n",
    "* Area codes - https://download.bls.gov/pub/time.series/la/la.area\n",
    "* Measure codes - https://download.bls.gov/pub/time.series/la/la.measure\n",
    "* Seasonal adjustment codes - https://download.bls.gov/pub/time.series/bd/bd.seasonal\n",
    "* State codes (simplified) - https://download.bls.gov/pub/time.series/sa/sa.state"
   ]
  },
  {
   "cell_type": "code",
   "execution_count": 1,
   "metadata": {},
   "outputs": [],
   "source": [
    "import csv\n",
    "import pandas as pd"
   ]
  },
  {
   "cell_type": "code",
   "execution_count": 2,
   "metadata": {},
   "outputs": [],
   "source": [
    "df = pd.read_csv('IL_unemployment_2020.csv')"
   ]
  },
  {
   "cell_type": "code",
   "execution_count": 3,
   "metadata": {},
   "outputs": [
    {
     "data": {
      "text/html": [
       "<div>\n",
       "<style scoped>\n",
       "    .dataframe tbody tr th:only-of-type {\n",
       "        vertical-align: middle;\n",
       "    }\n",
       "\n",
       "    .dataframe tbody tr th {\n",
       "        vertical-align: top;\n",
       "    }\n",
       "\n",
       "    .dataframe thead th {\n",
       "        text-align: right;\n",
       "    }\n",
       "</style>\n",
       "<table border=\"1\" class=\"dataframe\">\n",
       "  <thead>\n",
       "    <tr style=\"text-align: right;\">\n",
       "      <th></th>\n",
       "      <th>Series ID</th>\n",
       "      <th>Year</th>\n",
       "      <th>Period</th>\n",
       "      <th>Label</th>\n",
       "      <th>Value</th>\n",
       "    </tr>\n",
       "  </thead>\n",
       "  <tbody>\n",
       "    <tr>\n",
       "      <th>0</th>\n",
       "      <td>LASST170000000000003</td>\n",
       "      <td>2020</td>\n",
       "      <td>M01</td>\n",
       "      <td>2020 Jan</td>\n",
       "      <td>3.5</td>\n",
       "    </tr>\n",
       "    <tr>\n",
       "      <th>1</th>\n",
       "      <td>LASST170000000000003</td>\n",
       "      <td>2020</td>\n",
       "      <td>M02</td>\n",
       "      <td>2020 Feb</td>\n",
       "      <td>3.6</td>\n",
       "    </tr>\n",
       "    <tr>\n",
       "      <th>2</th>\n",
       "      <td>LASST170000000000003</td>\n",
       "      <td>2020</td>\n",
       "      <td>M03</td>\n",
       "      <td>2020 Mar</td>\n",
       "      <td>3.7</td>\n",
       "    </tr>\n",
       "    <tr>\n",
       "      <th>3</th>\n",
       "      <td>LASST170000000000003</td>\n",
       "      <td>2020</td>\n",
       "      <td>M04</td>\n",
       "      <td>2020 Apr</td>\n",
       "      <td>16.5</td>\n",
       "    </tr>\n",
       "    <tr>\n",
       "      <th>4</th>\n",
       "      <td>LASST170000000000003</td>\n",
       "      <td>2020</td>\n",
       "      <td>M05</td>\n",
       "      <td>2020 May</td>\n",
       "      <td>15.4</td>\n",
       "    </tr>\n",
       "    <tr>\n",
       "      <th>5</th>\n",
       "      <td>LASST170000000000003</td>\n",
       "      <td>2020</td>\n",
       "      <td>M06</td>\n",
       "      <td>2020 Jun</td>\n",
       "      <td>14.2</td>\n",
       "    </tr>\n",
       "    <tr>\n",
       "      <th>6</th>\n",
       "      <td>LASST170000000000003</td>\n",
       "      <td>2020</td>\n",
       "      <td>M07</td>\n",
       "      <td>2020 Jul</td>\n",
       "      <td>12.0</td>\n",
       "    </tr>\n",
       "    <tr>\n",
       "      <th>7</th>\n",
       "      <td>LASST170000000000003</td>\n",
       "      <td>2020</td>\n",
       "      <td>M08</td>\n",
       "      <td>2020 Aug</td>\n",
       "      <td>11.1</td>\n",
       "    </tr>\n",
       "    <tr>\n",
       "      <th>8</th>\n",
       "      <td>LASST170000000000003</td>\n",
       "      <td>2020</td>\n",
       "      <td>M09</td>\n",
       "      <td>2020 Sep</td>\n",
       "      <td>10.4</td>\n",
       "    </tr>\n",
       "    <tr>\n",
       "      <th>9</th>\n",
       "      <td>LASST170000000000003</td>\n",
       "      <td>2020</td>\n",
       "      <td>M10</td>\n",
       "      <td>2020 Oct</td>\n",
       "      <td>8.1</td>\n",
       "    </tr>\n",
       "    <tr>\n",
       "      <th>10</th>\n",
       "      <td>LASST170000000000003</td>\n",
       "      <td>2020</td>\n",
       "      <td>M11</td>\n",
       "      <td>2020 Nov</td>\n",
       "      <td>8.1</td>\n",
       "    </tr>\n",
       "    <tr>\n",
       "      <th>11</th>\n",
       "      <td>LASST170000000000003</td>\n",
       "      <td>2020</td>\n",
       "      <td>M12</td>\n",
       "      <td>2020 Dec</td>\n",
       "      <td>8.0</td>\n",
       "    </tr>\n",
       "  </tbody>\n",
       "</table>\n",
       "</div>"
      ],
      "text/plain": [
       "               Series ID  Year Period     Label  Value\n",
       "0   LASST170000000000003  2020    M01  2020 Jan    3.5\n",
       "1   LASST170000000000003  2020    M02  2020 Feb    3.6\n",
       "2   LASST170000000000003  2020    M03  2020 Mar    3.7\n",
       "3   LASST170000000000003  2020    M04  2020 Apr   16.5\n",
       "4   LASST170000000000003  2020    M05  2020 May   15.4\n",
       "5   LASST170000000000003  2020    M06  2020 Jun   14.2\n",
       "6   LASST170000000000003  2020    M07  2020 Jul   12.0\n",
       "7   LASST170000000000003  2020    M08  2020 Aug   11.1\n",
       "8   LASST170000000000003  2020    M09  2020 Sep   10.4\n",
       "9   LASST170000000000003  2020    M10  2020 Oct    8.1\n",
       "10  LASST170000000000003  2020    M11  2020 Nov    8.1\n",
       "11  LASST170000000000003  2020    M12  2020 Dec    8.0"
      ]
     },
     "execution_count": 3,
     "metadata": {},
     "output_type": "execute_result"
    }
   ],
   "source": [
    "df"
   ]
  },
  {
   "cell_type": "markdown",
   "metadata": {},
   "source": [
    "Well, the great thing about a tiny dataset/dataframe is that it's super easy to eyeball. No null values here!"
   ]
  },
  {
   "cell_type": "code",
   "execution_count": 4,
   "metadata": {},
   "outputs": [
    {
     "name": "stdout",
     "output_type": "stream",
     "text": [
      "<class 'pandas.core.frame.DataFrame'>\n",
      "RangeIndex: 12 entries, 0 to 11\n",
      "Data columns (total 5 columns):\n",
      " #   Column     Non-Null Count  Dtype  \n",
      "---  ------     --------------  -----  \n",
      " 0   Series ID  12 non-null     object \n",
      " 1   Year       12 non-null     int64  \n",
      " 2   Period     12 non-null     object \n",
      " 3   Label      12 non-null     object \n",
      " 4   Value      12 non-null     float64\n",
      "dtypes: float64(1), int64(1), object(3)\n",
      "memory usage: 608.0+ bytes\n"
     ]
    }
   ],
   "source": [
    "df.info()"
   ]
  },
  {
   "cell_type": "code",
   "execution_count": 5,
   "metadata": {},
   "outputs": [
    {
     "data": {
      "text/plain": [
       "Series ID    0\n",
       "Year         0\n",
       "Period       0\n",
       "Label        0\n",
       "Value        0\n",
       "dtype: int64"
      ]
     },
     "execution_count": 5,
     "metadata": {},
     "output_type": "execute_result"
    }
   ],
   "source": [
    "df.isnull().sum()"
   ]
  },
  {
   "cell_type": "markdown",
   "metadata": {},
   "source": [
    "I think I've determined at this point that the .describe() function will likely be useless for all my datasets. I'm not sure why I keep checking it at this point."
   ]
  },
  {
   "cell_type": "code",
   "execution_count": 6,
   "metadata": {},
   "outputs": [
    {
     "data": {
      "text/html": [
       "<div>\n",
       "<style scoped>\n",
       "    .dataframe tbody tr th:only-of-type {\n",
       "        vertical-align: middle;\n",
       "    }\n",
       "\n",
       "    .dataframe tbody tr th {\n",
       "        vertical-align: top;\n",
       "    }\n",
       "\n",
       "    .dataframe thead th {\n",
       "        text-align: right;\n",
       "    }\n",
       "</style>\n",
       "<table border=\"1\" class=\"dataframe\">\n",
       "  <thead>\n",
       "    <tr style=\"text-align: right;\">\n",
       "      <th></th>\n",
       "      <th>Year</th>\n",
       "      <th>Value</th>\n",
       "    </tr>\n",
       "  </thead>\n",
       "  <tbody>\n",
       "    <tr>\n",
       "      <th>count</th>\n",
       "      <td>12.0</td>\n",
       "      <td>12.000000</td>\n",
       "    </tr>\n",
       "    <tr>\n",
       "      <th>mean</th>\n",
       "      <td>2020.0</td>\n",
       "      <td>9.550000</td>\n",
       "    </tr>\n",
       "    <tr>\n",
       "      <th>std</th>\n",
       "      <td>0.0</td>\n",
       "      <td>4.533812</td>\n",
       "    </tr>\n",
       "    <tr>\n",
       "      <th>min</th>\n",
       "      <td>2020.0</td>\n",
       "      <td>3.500000</td>\n",
       "    </tr>\n",
       "    <tr>\n",
       "      <th>25%</th>\n",
       "      <td>2020.0</td>\n",
       "      <td>6.925000</td>\n",
       "    </tr>\n",
       "    <tr>\n",
       "      <th>50%</th>\n",
       "      <td>2020.0</td>\n",
       "      <td>9.250000</td>\n",
       "    </tr>\n",
       "    <tr>\n",
       "      <th>75%</th>\n",
       "      <td>2020.0</td>\n",
       "      <td>12.550000</td>\n",
       "    </tr>\n",
       "    <tr>\n",
       "      <th>max</th>\n",
       "      <td>2020.0</td>\n",
       "      <td>16.500000</td>\n",
       "    </tr>\n",
       "  </tbody>\n",
       "</table>\n",
       "</div>"
      ],
      "text/plain": [
       "         Year      Value\n",
       "count    12.0  12.000000\n",
       "mean   2020.0   9.550000\n",
       "std       0.0   4.533812\n",
       "min    2020.0   3.500000\n",
       "25%    2020.0   6.925000\n",
       "50%    2020.0   9.250000\n",
       "75%    2020.0  12.550000\n",
       "max    2020.0  16.500000"
      ]
     },
     "execution_count": 6,
     "metadata": {},
     "output_type": "execute_result"
    }
   ],
   "source": [
    "df.describe()"
   ]
  },
  {
   "cell_type": "code",
   "execution_count": null,
   "metadata": {},
   "outputs": [],
   "source": []
  },
  {
   "cell_type": "code",
   "execution_count": null,
   "metadata": {},
   "outputs": [],
   "source": []
  }
 ],
 "metadata": {
  "kernelspec": {
   "display_name": "Python 3",
   "language": "python",
   "name": "python3"
  },
  "language_info": {
   "codemirror_mode": {
    "name": "ipython",
    "version": 3
   },
   "file_extension": ".py",
   "mimetype": "text/x-python",
   "name": "python",
   "nbconvert_exporter": "python",
   "pygments_lexer": "ipython3",
   "version": "3.8.5"
  }
 },
 "nbformat": 4,
 "nbformat_minor": 4
}
