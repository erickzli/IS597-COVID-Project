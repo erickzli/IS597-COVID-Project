{
 "cells": [
  {
   "cell_type": "markdown",
   "metadata": {},
   "source": [
    "## Data Notes\n",
    "This dataset was pulled from the Bureau of Labor Statistics at https://beta.bls.gov/dataViewer/view/613c964322424efea9e49069abe335e8\n",
    "\n",
    "It should be noted that the dataset is seasonally adjusted, so I don't need to worry about dips in unemployment actually just being a seasonal dip. It would perhaps be interesting to compare this data with the unadjusted version in a easy line graph of something.\n",
    "\n",
    "Also, it should be noted as well that LASST170000000000003 stands for Illinois. I'm not exactly sure why they chose this specific code for Illinois, but all the states, territories, and large metropolitan areas (NYC, LA, and DC) have a code like this.\n",
    "\n",
    "So I looked up the codes for BLS. It looks like a lot of information goes into these codes, but it's the first two numbers that determine the state. In this case, 17 is Illinois; although, the state code is technically ST1700000000000 for Illinois. the 03 at the end stands for unemployment rate. The first S also likely means that the data is seasonally adjusted. I'll include the links to all the codes below.\n",
    "\n",
    "* Page to find all codes - https://www.bls.gov/help/hlpforma.htm\n",
    "* Area codes - https://download.bls.gov/pub/time.series/la/la.area\n",
    "* Measure codes - https://download.bls.gov/pub/time.series/la/la.measure\n",
    "* Seasonal adjustment codes - https://download.bls.gov/pub/time.series/bd/bd.seasonal\n",
    "* State codes (simplified) - https://download.bls.gov/pub/time.series/sa/sa.state"
   ]
  },
  {
   "cell_type": "code",
   "execution_count": 1,
   "metadata": {},
   "outputs": [],
   "source": [
    "import csv\n",
    "import pandas as pd"
   ]
  },
  {
   "cell_type": "code",
   "execution_count": 2,
   "metadata": {},
   "outputs": [],
   "source": [
    "df = pd.read_csv('state_unemployment_2019-2020.csv')"
   ]
  },
  {
   "cell_type": "markdown",
   "metadata": {},
   "source": [
    "Things that need to happen with this dataframe:\n",
    "* Replace Series ID with state name or add a column with the state name"
   ]
  },
  {
   "cell_type": "code",
   "execution_count": 3,
   "metadata": {},
   "outputs": [
    {
     "data": {
      "text/html": [
       "<div>\n",
       "<style scoped>\n",
       "    .dataframe tbody tr th:only-of-type {\n",
       "        vertical-align: middle;\n",
       "    }\n",
       "\n",
       "    .dataframe tbody tr th {\n",
       "        vertical-align: top;\n",
       "    }\n",
       "\n",
       "    .dataframe thead th {\n",
       "        text-align: right;\n",
       "    }\n",
       "</style>\n",
       "<table border=\"1\" class=\"dataframe\">\n",
       "  <thead>\n",
       "    <tr style=\"text-align: right;\">\n",
       "      <th></th>\n",
       "      <th>Series ID</th>\n",
       "      <th>Year</th>\n",
       "      <th>Period</th>\n",
       "      <th>Label</th>\n",
       "      <th>Value</th>\n",
       "    </tr>\n",
       "  </thead>\n",
       "  <tbody>\n",
       "    <tr>\n",
       "      <th>0</th>\n",
       "      <td>LASST010000000000003</td>\n",
       "      <td>2019</td>\n",
       "      <td>M01</td>\n",
       "      <td>2019 Jan</td>\n",
       "      <td>3.6</td>\n",
       "    </tr>\n",
       "    <tr>\n",
       "      <th>1</th>\n",
       "      <td>LASST010000000000003</td>\n",
       "      <td>2019</td>\n",
       "      <td>M02</td>\n",
       "      <td>2019 Feb</td>\n",
       "      <td>3.5</td>\n",
       "    </tr>\n",
       "    <tr>\n",
       "      <th>2</th>\n",
       "      <td>LASST010000000000003</td>\n",
       "      <td>2019</td>\n",
       "      <td>M03</td>\n",
       "      <td>2019 Mar</td>\n",
       "      <td>3.3</td>\n",
       "    </tr>\n",
       "    <tr>\n",
       "      <th>3</th>\n",
       "      <td>LASST010000000000003</td>\n",
       "      <td>2019</td>\n",
       "      <td>M04</td>\n",
       "      <td>2019 Apr</td>\n",
       "      <td>3.2</td>\n",
       "    </tr>\n",
       "    <tr>\n",
       "      <th>4</th>\n",
       "      <td>LASST010000000000003</td>\n",
       "      <td>2019</td>\n",
       "      <td>M05</td>\n",
       "      <td>2019 May</td>\n",
       "      <td>3.1</td>\n",
       "    </tr>\n",
       "    <tr>\n",
       "      <th>...</th>\n",
       "      <td>...</td>\n",
       "      <td>...</td>\n",
       "      <td>...</td>\n",
       "      <td>...</td>\n",
       "      <td>...</td>\n",
       "    </tr>\n",
       "    <tr>\n",
       "      <th>1243</th>\n",
       "      <td>LASST720000000000003</td>\n",
       "      <td>2020</td>\n",
       "      <td>M08</td>\n",
       "      <td>2020 Aug</td>\n",
       "      <td>8.3</td>\n",
       "    </tr>\n",
       "    <tr>\n",
       "      <th>1244</th>\n",
       "      <td>LASST720000000000003</td>\n",
       "      <td>2020</td>\n",
       "      <td>M09</td>\n",
       "      <td>2020 Sep</td>\n",
       "      <td>8.6</td>\n",
       "    </tr>\n",
       "    <tr>\n",
       "      <th>1245</th>\n",
       "      <td>LASST720000000000003</td>\n",
       "      <td>2020</td>\n",
       "      <td>M10</td>\n",
       "      <td>2020 Oct</td>\n",
       "      <td>9.0</td>\n",
       "    </tr>\n",
       "    <tr>\n",
       "      <th>1246</th>\n",
       "      <td>LASST720000000000003</td>\n",
       "      <td>2020</td>\n",
       "      <td>M11</td>\n",
       "      <td>2020 Nov</td>\n",
       "      <td>9.2</td>\n",
       "    </tr>\n",
       "    <tr>\n",
       "      <th>1247</th>\n",
       "      <td>LASST720000000000003</td>\n",
       "      <td>2020</td>\n",
       "      <td>M12</td>\n",
       "      <td>2020 Dec</td>\n",
       "      <td>9.2</td>\n",
       "    </tr>\n",
       "  </tbody>\n",
       "</table>\n",
       "<p>1248 rows × 5 columns</p>\n",
       "</div>"
      ],
      "text/plain": [
       "                 Series ID  Year Period     Label Value\n",
       "0     LASST010000000000003  2019    M01  2019 Jan   3.6\n",
       "1     LASST010000000000003  2019    M02  2019 Feb   3.5\n",
       "2     LASST010000000000003  2019    M03  2019 Mar   3.3\n",
       "3     LASST010000000000003  2019    M04  2019 Apr   3.2\n",
       "4     LASST010000000000003  2019    M05  2019 May   3.1\n",
       "...                    ...   ...    ...       ...   ...\n",
       "1243  LASST720000000000003  2020    M08  2020 Aug   8.3\n",
       "1244  LASST720000000000003  2020    M09  2020 Sep   8.6\n",
       "1245  LASST720000000000003  2020    M10  2020 Oct   9.0\n",
       "1246  LASST720000000000003  2020    M11  2020 Nov   9.2\n",
       "1247  LASST720000000000003  2020    M12  2020 Dec   9.2\n",
       "\n",
       "[1248 rows x 5 columns]"
      ]
     },
     "execution_count": 3,
     "metadata": {},
     "output_type": "execute_result"
    }
   ],
   "source": [
    "df"
   ]
  },
  {
   "cell_type": "markdown",
   "metadata": {},
   "source": [
    "Whoo! No null values! Yeah! That's what I want! Thank you BLS for doing a dang good job getting all the data!"
   ]
  },
  {
   "cell_type": "code",
   "execution_count": 4,
   "metadata": {},
   "outputs": [
    {
     "name": "stdout",
     "output_type": "stream",
     "text": [
      "<class 'pandas.core.frame.DataFrame'>\n",
      "RangeIndex: 1248 entries, 0 to 1247\n",
      "Data columns (total 5 columns):\n",
      " #   Column     Non-Null Count  Dtype \n",
      "---  ------     --------------  ----- \n",
      " 0   Series ID  1248 non-null   object\n",
      " 1   Year       1248 non-null   int64 \n",
      " 2   Period     1248 non-null   object\n",
      " 3   Label      1248 non-null   object\n",
      " 4   Value      1248 non-null   object\n",
      "dtypes: int64(1), object(4)\n",
      "memory usage: 48.9+ KB\n"
     ]
    }
   ],
   "source": [
    "df.info()"
   ]
  },
  {
   "cell_type": "code",
   "execution_count": 5,
   "metadata": {},
   "outputs": [
    {
     "data": {
      "text/plain": [
       "Series ID    0\n",
       "Year         0\n",
       "Period       0\n",
       "Label        0\n",
       "Value        0\n",
       "dtype: int64"
      ]
     },
     "execution_count": 5,
     "metadata": {},
     "output_type": "execute_result"
    }
   ],
   "source": [
    "df.isnull().sum()"
   ]
  },
  {
   "cell_type": "markdown",
   "metadata": {},
   "source": [
    "As previously mentioned in many of the other data cleaning files, .describe() is a waste of my time. "
   ]
  },
  {
   "cell_type": "code",
   "execution_count": 6,
   "metadata": {},
   "outputs": [
    {
     "data": {
      "text/html": [
       "<div>\n",
       "<style scoped>\n",
       "    .dataframe tbody tr th:only-of-type {\n",
       "        vertical-align: middle;\n",
       "    }\n",
       "\n",
       "    .dataframe tbody tr th {\n",
       "        vertical-align: top;\n",
       "    }\n",
       "\n",
       "    .dataframe thead th {\n",
       "        text-align: right;\n",
       "    }\n",
       "</style>\n",
       "<table border=\"1\" class=\"dataframe\">\n",
       "  <thead>\n",
       "    <tr style=\"text-align: right;\">\n",
       "      <th></th>\n",
       "      <th>Year</th>\n",
       "    </tr>\n",
       "  </thead>\n",
       "  <tbody>\n",
       "    <tr>\n",
       "      <th>count</th>\n",
       "      <td>1248.0000</td>\n",
       "    </tr>\n",
       "    <tr>\n",
       "      <th>mean</th>\n",
       "      <td>2019.5000</td>\n",
       "    </tr>\n",
       "    <tr>\n",
       "      <th>std</th>\n",
       "      <td>0.5002</td>\n",
       "    </tr>\n",
       "    <tr>\n",
       "      <th>min</th>\n",
       "      <td>2019.0000</td>\n",
       "    </tr>\n",
       "    <tr>\n",
       "      <th>25%</th>\n",
       "      <td>2019.0000</td>\n",
       "    </tr>\n",
       "    <tr>\n",
       "      <th>50%</th>\n",
       "      <td>2019.5000</td>\n",
       "    </tr>\n",
       "    <tr>\n",
       "      <th>75%</th>\n",
       "      <td>2020.0000</td>\n",
       "    </tr>\n",
       "    <tr>\n",
       "      <th>max</th>\n",
       "      <td>2020.0000</td>\n",
       "    </tr>\n",
       "  </tbody>\n",
       "</table>\n",
       "</div>"
      ],
      "text/plain": [
       "            Year\n",
       "count  1248.0000\n",
       "mean   2019.5000\n",
       "std       0.5002\n",
       "min    2019.0000\n",
       "25%    2019.0000\n",
       "50%    2019.5000\n",
       "75%    2020.0000\n",
       "max    2020.0000"
      ]
     },
     "execution_count": 6,
     "metadata": {},
     "output_type": "execute_result"
    }
   ],
   "source": [
    "df.describe()"
   ]
  },
  {
   "cell_type": "code",
   "execution_count": null,
   "metadata": {},
   "outputs": [],
   "source": []
  }
 ],
 "metadata": {
  "kernelspec": {
   "display_name": "Python 3",
   "language": "python",
   "name": "python3"
  },
  "language_info": {
   "codemirror_mode": {
    "name": "ipython",
    "version": 3
   },
   "file_extension": ".py",
   "mimetype": "text/x-python",
   "name": "python",
   "nbconvert_exporter": "python",
   "pygments_lexer": "ipython3",
   "version": "3.7.4"
  }
 },
 "nbformat": 4,
 "nbformat_minor": 4
}
