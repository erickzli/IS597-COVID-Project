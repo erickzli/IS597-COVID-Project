{
 "cells": [
  {
   "cell_type": "code",
   "execution_count": 5,
   "metadata": {},
   "outputs": [
    {
     "ename": "ModuleNotFoundError",
     "evalue": "No module named 'covidcast'",
     "output_type": "error",
     "traceback": [
      "\u001b[1;31m---------------------------------------------------------------------------\u001b[0m",
      "\u001b[1;31mModuleNotFoundError\u001b[0m                       Traceback (most recent call last)",
      "\u001b[1;32m<ipython-input-5-d46bf8ed2306>\u001b[0m in \u001b[0;36m<module>\u001b[1;34m\u001b[0m\n\u001b[1;32m----> 1\u001b[1;33m \u001b[1;32mimport\u001b[0m \u001b[0mcovidcast\u001b[0m\u001b[1;33m\u001b[0m\u001b[1;33m\u001b[0m\u001b[0m\n\u001b[0m\u001b[0;32m      2\u001b[0m \u001b[1;32mfrom\u001b[0m \u001b[0mdatetime\u001b[0m \u001b[1;32mimport\u001b[0m \u001b[0mdate\u001b[0m\u001b[1;33m\u001b[0m\u001b[1;33m\u001b[0m\u001b[0m\n\u001b[0;32m      3\u001b[0m \u001b[1;32mimport\u001b[0m \u001b[0mpandas\u001b[0m \u001b[1;32mas\u001b[0m \u001b[0mpd\u001b[0m\u001b[1;33m\u001b[0m\u001b[1;33m\u001b[0m\u001b[0m\n",
      "\u001b[1;31mModuleNotFoundError\u001b[0m: No module named 'covidcast'"
     ]
    }
   ],
   "source": [
    "import covidcast\n",
    "from datetime import date\n",
    "import pandas as pd"
   ]
  },
  {
   "cell_type": "code",
   "execution_count": 4,
   "metadata": {},
   "outputs": [
    {
     "name": "stdout",
     "output_type": "stream",
     "text": [
      "Collecting covidcast\n",
      "  Using cached https://files.pythonhosted.org/packages/42/1f/8c657a229857a3bfac103c9a4468b9780f16eb52c6334c1f092633ac13d0/covidcast-0.1.4-py3-none-any.whl\n",
      "Requirement already satisfied: pandas in c:\\users\\kmwol\\appdata\\local\\continuum\\anaconda3\\lib\\site-packages (from covidcast) (0.25.1)\n",
      "Collecting geopandas (from covidcast)\n",
      "  Using cached https://files.pythonhosted.org/packages/d7/bf/e9cefb69d39155d122b6ddca53893b61535fa6ffdad70bf5ef708977f53f/geopandas-0.9.0-py2.py3-none-any.whl\n",
      "Collecting delphi-epidata>=0.0.11 (from covidcast)\n",
      "  Using cached https://files.pythonhosted.org/packages/08/a0/c84b0a898a2d7e19c3449f87f57e492c648a46f1543ecfb8b10bdfe0f09c/delphi_epidata-0.0.12-py3-none-any.whl\n",
      "Collecting descartes (from covidcast)\n",
      "  Using cached https://files.pythonhosted.org/packages/e5/b6/1ed2eb03989ae574584664985367ba70cd9cf8b32ee8cad0e8aaeac819f3/descartes-1.1.0-py3-none-any.whl\n",
      "Requirement already satisfied: matplotlib in c:\\users\\kmwol\\appdata\\local\\continuum\\anaconda3\\lib\\site-packages (from covidcast) (3.1.1)\n",
      "Requirement already satisfied: numpy in c:\\users\\kmwol\\appdata\\local\\continuum\\anaconda3\\lib\\site-packages (from covidcast) (1.16.5)\n",
      "Requirement already satisfied: requests in c:\\users\\kmwol\\appdata\\local\\continuum\\anaconda3\\lib\\site-packages (from covidcast) (2.22.0)\n",
      "Collecting epiweeks (from covidcast)\n",
      "  Using cached https://files.pythonhosted.org/packages/77/53/8e931dff428c7a4fdeb9ec7b4de3a41f60fe8ef1cb842898de832e051c13/epiweeks-2.1.2-py3-none-any.whl\n",
      "Requirement already satisfied: tqdm in c:\\users\\kmwol\\appdata\\local\\continuum\\anaconda3\\lib\\site-packages (from covidcast) (4.36.1)\n",
      "Collecting imageio-ffmpeg (from covidcast)\n",
      "  Using cached https://files.pythonhosted.org/packages/c3/da/152b7e7a4ef300cf96fae41fab321163d9cd2c5c6b504c9e20a1a83c7575/imageio_ffmpeg-0.4.3-py3-none-win_amd64.whl\n",
      "Requirement already satisfied: imageio in c:\\users\\kmwol\\appdata\\local\\continuum\\anaconda3\\lib\\site-packages (from covidcast) (2.6.0)\n",
      "Requirement already satisfied: python-dateutil>=2.6.1 in c:\\users\\kmwol\\appdata\\local\\continuum\\anaconda3\\lib\\site-packages (from pandas->covidcast) (2.8.0)\n",
      "Requirement already satisfied: pytz>=2017.2 in c:\\users\\kmwol\\appdata\\local\\continuum\\anaconda3\\lib\\site-packages (from pandas->covidcast) (2019.3)\n",
      "Collecting pyproj>=2.2.0 (from geopandas->covidcast)\n",
      "  Downloading https://files.pythonhosted.org/packages/24/15/ad2529bcfcd4c8d3881a7a0a37c34c4a59bddb6e11948e93759af4427218/pyproj-3.0.1-cp37-cp37m-win_amd64.whl (14.4MB)\n",
      "Collecting shapely>=1.6 (from geopandas->covidcast)\n",
      "  Using cached https://files.pythonhosted.org/packages/00/b6/71bd30edeab05060e8fbfb16bf2a074364b037615cd823945e0052d26484/Shapely-1.7.1-cp37-cp37m-win_amd64.whl\n",
      "Collecting fiona>=1.8 (from geopandas->covidcast)\n",
      "  Using cached https://files.pythonhosted.org/packages/a0/d9/6042aeb073d11341f7726de0586ff71c13117c34959dcf07bd4ee6d4b93e/Fiona-1.8.19.tar.gz\n",
      "Note: you may need to restart the kernel to use updated packages.\n"
     ]
    },
    {
     "name": "stderr",
     "output_type": "stream",
     "text": [
      "    ERROR: Command errored out with exit status 1:\n",
      "     command: 'C:\\Users\\kmwol\\AppData\\Local\\Continuum\\anaconda3\\python.exe' -c 'import sys, setuptools, tokenize; sys.argv[0] = '\"'\"'C:\\\\Users\\\\kmwol\\\\AppData\\\\Local\\\\Temp\\\\pip-install-3ugkoln7\\\\fiona\\\\setup.py'\"'\"'; __file__='\"'\"'C:\\\\Users\\\\kmwol\\\\AppData\\\\Local\\\\Temp\\\\pip-install-3ugkoln7\\\\fiona\\\\setup.py'\"'\"';f=getattr(tokenize, '\"'\"'open'\"'\"', open)(__file__);code=f.read().replace('\"'\"'\\r\\n'\"'\"', '\"'\"'\\n'\"'\"');f.close();exec(compile(code, __file__, '\"'\"'exec'\"'\"'))' egg_info --egg-base pip-egg-info\n",
      "         cwd: C:\\Users\\kmwol\\AppData\\Local\\Temp\\pip-install-3ugkoln7\\fiona\\\n",
      "    Complete output (1 lines):\n",
      "    A GDAL API version must be specified. Provide a path to gdal-config using a GDAL_CONFIG environment variable or use a GDAL_VERSION environment variable.\n",
      "    ----------------------------------------\n",
      "ERROR: Command errored out with exit status 1: python setup.py egg_info Check the logs for full command output.\n"
     ]
    }
   ],
   "source": [
    "pip install covidcast"
   ]
  },
  {
   "cell_type": "code",
   "execution_count": null,
   "metadata": {},
   "outputs": [],
   "source": [
    "#bar_visit = covidcast.signal(\"safegraph\", \"bars_visit_prop\",\n",
    " #                            start_day=date(2020, 9, 1), end_day=date(2020, 9, 30),\n",
    "  #                           geo_type=\"state\", geo_values=\"il\")"
   ]
  },
  {
   "cell_type": "code",
   "execution_count": null,
   "metadata": {},
   "outputs": [],
   "source": [
    "com_home_week = covidcast.signal(\"safegraph\", \"completely_home_prop_7dav\",\n",
    "                                 start_day = date(2019, 1, 1), end_day = date(2020, 12, 31),\n",
    "                                 geo_type = \"state\")"
   ]
  },
  {
   "cell_type": "code",
   "execution_count": null,
   "metadata": {},
   "outputs": [],
   "source": [
    "full_time_week = covidcast.signal(\"safegraph\", \"full_time_work_prop_7dav\",\n",
    "                                  start_day = date(2019, 1, 1), end_day = date(2020, 12, 31),\n",
    "                                  geo_type = \"state\")"
   ]
  },
  {
   "cell_type": "code",
   "execution_count": null,
   "metadata": {},
   "outputs": [],
   "source": [
    "part_time_week = covidcast.signal(\"safegraph\", \"part_time_work_prop_7dav\",\n",
    "                                  start_day = date(2019, 1, 1), end_day = date(2020, 12, 31),\n",
    "                                  geo_type = \"state\")"
   ]
  },
  {
   "cell_type": "code",
   "execution_count": null,
   "metadata": {},
   "outputs": [],
   "source": [
    "com_home_week.to_csv(r'com_home_week.csv', index = False)"
   ]
  },
  {
   "cell_type": "code",
   "execution_count": null,
   "metadata": {},
   "outputs": [],
   "source": [
    "full_time_week.to_csv(r'full_time_week.csv', index = False)"
   ]
  },
  {
   "cell_type": "code",
   "execution_count": null,
   "metadata": {},
   "outputs": [],
   "source": [
    "part_time_week.to_csv(r'part_time_week.csv', index = False)"
   ]
  }
 ],
 "metadata": {
  "kernelspec": {
   "display_name": "Python 3",
   "language": "python",
   "name": "python3"
  },
  "language_info": {
   "codemirror_mode": {
    "name": "ipython",
    "version": 3
   },
   "file_extension": ".py",
   "mimetype": "text/x-python",
   "name": "python",
   "nbconvert_exporter": "python",
   "pygments_lexer": "ipython3",
   "version": "3.7.4"
  }
 },
 "nbformat": 4,
 "nbformat_minor": 2
}
