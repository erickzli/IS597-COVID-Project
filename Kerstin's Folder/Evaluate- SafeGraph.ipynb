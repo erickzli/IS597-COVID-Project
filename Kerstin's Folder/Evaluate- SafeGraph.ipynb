{
 "cells": [
  {
   "cell_type": "code",
   "execution_count": 1,
   "metadata": {},
   "outputs": [],
   "source": [
    "import covidcast\n",
    "from datetime import date\n",
    "import pandas as pd"
   ]
  },
  {
   "cell_type": "code",
   "execution_count": null,
   "metadata": {},
   "outputs": [],
   "source": []
  },
  {
   "cell_type": "code",
   "execution_count": 2,
   "metadata": {},
   "outputs": [],
   "source": [
    "#bar_visit = covidcast.signal(\"safegraph\", \"bars_visit_prop\",\n",
    " #                            start_day=date(2020, 9, 1), end_day=date(2020, 9, 30),\n",
    "  #                           geo_type=\"state\", geo_values=\"il\")"
   ]
  },
  {
   "cell_type": "code",
   "execution_count": 3,
   "metadata": {},
   "outputs": [],
   "source": [
    "com_home_week = covidcast.signal(\"safegraph\", \"completely_home_prop_7dav\",\n",
    "                                 start_day = date(2019, 1, 1), end_day = date(2020, 12, 31),\n",
    "                                 geo_type = \"state\")"
   ]
  },
  {
   "cell_type": "code",
   "execution_count": 4,
   "metadata": {},
   "outputs": [],
   "source": [
    "full_time_week = covidcast.signal(\"safegraph\", \"full_time_work_prop_7dav\",\n",
    "                                  start_day = date(2019, 1, 1), end_day = date(2020, 12, 31),\n",
    "                                  geo_type = \"state\")"
   ]
  },
  {
   "cell_type": "code",
   "execution_count": 5,
   "metadata": {},
   "outputs": [],
   "source": [
    "part_time_week = covidcast.signal(\"safegraph\", \"part_time_work_prop_7dav\",\n",
    "                                  start_day = date(2019, 1, 1), end_day = date(2020, 12, 31),\n",
    "                                  geo_type = \"state\")"
   ]
  },
  {
   "cell_type": "code",
   "execution_count": 6,
   "metadata": {},
   "outputs": [],
   "source": [
    "com_home_week.to_csv(r'com_home_week.csv', index = False)"
   ]
  },
  {
   "cell_type": "code",
   "execution_count": 7,
   "metadata": {},
   "outputs": [],
   "source": [
    "full_time_week.to_csv(r'full_time_week.csv', index = False)"
   ]
  },
  {
   "cell_type": "code",
   "execution_count": 8,
   "metadata": {},
   "outputs": [],
   "source": [
    "part_time_week.to_csv(r'part_time_week.csv', index = False)"
   ]
  },
  {
   "cell_type": "code",
   "execution_count": null,
   "metadata": {},
   "outputs": [],
   "source": []
  }
 ],
 "metadata": {
  "kernelspec": {
   "display_name": "Python 3",
   "language": "python",
   "name": "python3"
  },
  "language_info": {
   "codemirror_mode": {
    "name": "ipython",
    "version": 3
   },
   "file_extension": ".py",
   "mimetype": "text/x-python",
   "name": "python",
   "nbconvert_exporter": "python",
   "pygments_lexer": "ipython3",
   "version": "3.8.3"
  }
 },
 "nbformat": 4,
 "nbformat_minor": 4
}
