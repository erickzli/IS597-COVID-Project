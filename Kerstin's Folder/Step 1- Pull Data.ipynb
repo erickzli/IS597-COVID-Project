{
 "cells": [
  {
   "cell_type": "code",
   "execution_count": 1,
   "metadata": {},
   "outputs": [],
   "source": [
    "import covidcast\n",
    "from datetime import date\n",
    "import pandas as pd\n",
    "import pathlib"
   ]
  },
  {
   "cell_type": "markdown",
   "metadata": {},
   "source": [
    "## Data to Use\n",
    "Covidcast: \n",
    "* SafeGraph (social distancing metrics, weekly patterns) - https://cmu-delphi.github.io/delphi-epidata/api/covidcast-signals/safegraph.html - may want to look at data prior to pandemic as well since the data goes back all the way to January 1st, 2019.\n",
    "* NCHS (CDC) mortality data - https://cmu-delphi.github.io/delphi-epidata/api/covidcast-signals/nchs-mortality.html -  this data is different from the death data from USAFacts and JHU because in this data, deaths are reported by the date they occur, not the date they were reported. Also, see details regarding \"Missingness\" since some data was removed when death counts were 50% less of the expected number.\n",
    "* USAFacts Cases and Deaths - https://cmu-delphi.github.io/delphi-epidata/api/covidcast-signals/usa-facts.html - I plan to use this priimarily for the case count.\n",
    "\n",
    "IPUMS USA:\n",
    "Will not use this since there's no 2020 data.\n",
    "\n",
    "U.S. Bureau of Labor Statistics: https://www.bls.gov/\n",
    "Use for employment and salary data."
   ]
  },
  {
   "cell_type": "code",
   "execution_count": null,
   "metadata": {},
   "outputs": [],
   "source": []
  }
 ],
 "metadata": {
  "kernelspec": {
   "display_name": "Python 3",
   "language": "python",
   "name": "python3"
  },
  "language_info": {
   "codemirror_mode": {
    "name": "ipython",
    "version": 3
   },
   "file_extension": ".py",
   "mimetype": "text/x-python",
   "name": "python",
   "nbconvert_exporter": "python",
   "pygments_lexer": "ipython3",
   "version": "3.8.5"
  }
 },
 "nbformat": 4,
 "nbformat_minor": 4
}
